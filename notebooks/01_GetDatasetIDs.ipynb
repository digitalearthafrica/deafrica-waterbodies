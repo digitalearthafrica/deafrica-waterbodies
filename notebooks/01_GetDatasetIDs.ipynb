{
 "cells": [
  {
   "cell_type": "code",
   "execution_count": 1,
   "id": "727a0f08-2a9c-471c-bbea-346bf528c856",
   "metadata": {},
   "outputs": [],
   "source": [
    "import logging\n",
    "\n",
    "import click\n",
    "import fsspec\n",
    "import geopandas as gpd\n",
    "from deafrica_waterbodies.cli.logs import logging_setup\n",
    "from deafrica_waterbodies.datasets import get_datasets_ids\n",
    "from deafrica_waterbodies.io import check_if_s3_uri"
   ]
  },
  {
   "cell_type": "code",
   "execution_count": 2,
   "id": "25b37fcb-eb02-4989-8794-326ed93a37b1",
   "metadata": {},
   "outputs": [],
   "source": [
    "import os\n",
    "\n",
    "# These are the default AWS configurations for the Analysis Sandbox.\n",
    "# that are set in the environmnet variables.\n",
    "aws_default_config = {\n",
    "    # \"AWS_NO_SIGN_REQUEST\": \"YES\",\n",
    "    \"AWS_SECRET_ACCESS_KEY\": \"fake\",\n",
    "    \"AWS_ACCESS_KEY_ID\": \"fake\",\n",
    "}\n",
    "\n",
    "# To access public bucket, need to remove the AWS credentials in\n",
    "# the environment variables or the following error will occur.\n",
    "# PermissionError: The AWS Access Key Id you provided does not exist in our records.\n",
    "\n",
    "for key in aws_default_config.keys():\n",
    "    if key in os.environ:\n",
    "        del os.environ[key]"
   ]
  },
  {
   "cell_type": "code",
   "execution_count": 3,
   "id": "dd9261b5-77ff-4b4d-884c-609771c2a656",
   "metadata": {},
   "outputs": [],
   "source": [
    "verbose = 1\n",
    "aoi_vector_file = \"data/SenegalBasin.geojson\"\n",
    "num_workers = 16\n",
    "dataset_ids_text_file = \"s3://deafrica-waterbodies-dev/test_out_dir/0-0-1/dataset_ids.txt\""
   ]
  },
  {
   "cell_type": "code",
   "execution_count": 4,
   "id": "6d698093-e0b7-4c3c-bcca-e630bddcce73",
   "metadata": {},
   "outputs": [],
   "source": [
    "# Set up logger.\n",
    "logging_setup(verbose=verbose)\n",
    "_log = logging.getLogger(__name__)"
   ]
  },
  {
   "cell_type": "code",
   "execution_count": 5,
   "id": "268c4be3-1301-4d39-bd32-71d64a31bb38",
   "metadata": {},
   "outputs": [],
   "source": [
    "# Support pathlib Paths.\n",
    "aoi_vector_file = str(aoi_vector_file)\n",
    "dataset_ids_text_file = str(dataset_ids_text_file)"
   ]
  },
  {
   "cell_type": "code",
   "execution_count": 6,
   "id": "00bf86bf-eb0f-4b7b-9b19-dee84fdac498",
   "metadata": {},
   "outputs": [],
   "source": [
    "# Load the area of interest as a GeoDataFrame.\n",
    "if aoi_vector_file is not None:\n",
    "    try:\n",
    "        aoi_gdf = gpd.read_file(aoi_vector_file)\n",
    "    except Exception as error:\n",
    "        _log.exception(f\"Could not read the file {aoi_vector_file}\")\n",
    "        raise error\n",
    "else:\n",
    "    aoi_gdf = None"
   ]
  },
  {
   "cell_type": "code",
   "execution_count": 7,
   "id": "858ba36e-e717-44da-ba56-a7dc6ebc90c5",
   "metadata": {},
   "outputs": [
    {
     "name": "stderr",
     "output_type": "stream",
     "text": [
      "4461it [00:07, 586.18it/s]\n"
     ]
    }
   ],
   "source": [
    "# Get the WOfS All Time Summary scene ids for the scenes whose extent\n",
    "# intersects with the area of interest.\n",
    "dataset_ids = get_datasets_ids(aoi_gdf=aoi_gdf, num_workers=num_workers)"
   ]
  },
  {
   "cell_type": "code",
   "execution_count": 8,
   "id": "a55a9af2-cff4-4843-8230-ab35cf897faa",
   "metadata": {},
   "outputs": [],
   "source": [
    "# Set the filesystem to use.\n",
    "if check_if_s3_uri(dataset_ids_text_file):\n",
    "    fs = fsspec.filesystem(\"s3\")\n",
    "else:\n",
    "    fs = fsspec.filesystem(\"file\")"
   ]
  },
  {
   "cell_type": "code",
   "execution_count": 9,
   "id": "a3323f56-f442-40d9-a2fd-0927a1d149f4",
   "metadata": {},
   "outputs": [
    {
     "name": "stdout",
     "output_type": "stream",
     "text": [
      "[2023-10-06 16:39:44,855] {credentials.py:620} INFO - Found credentials in shared credentials file: ~/.aws/credentials\n",
      "[2023-10-06 16:39:45,022] {2876337735.py:6} INFO - Dataset IDs written to: s3://deafrica-waterbodies-dev/test_out_dir/0-0-1/dataset_ids.txt.\n"
     ]
    }
   ],
   "source": [
    "# Write the dataset ids to the text file.\n",
    "with fs.open(dataset_ids_text_file, \"w\") as file:\n",
    "    for dataset_id in dataset_ids:\n",
    "        file.write(f\"{dataset_id}\\n\")\n",
    "\n",
    "_log.info(f\"Dataset IDs written to: {dataset_ids_text_file}.\")"
   ]
  }
 ],
 "metadata": {
  "kernelspec": {
   "display_name": "Python 3 (ipykernel)",
   "language": "python",
   "name": "python3"
  },
  "language_info": {
   "codemirror_mode": {
    "name": "ipython",
    "version": 3
   },
   "file_extension": ".py",
   "mimetype": "text/x-python",
   "name": "python",
   "nbconvert_exporter": "python",
   "pygments_lexer": "ipython3",
   "version": "3.10.12"
  }
 },
 "nbformat": 4,
 "nbformat_minor": 5
}
