{
 "cells": [
  {
   "cell_type": "code",
   "execution_count": 1,
   "id": "41ab3fc2-410a-4d68-b108-de4105a606b8",
   "metadata": {},
   "outputs": [],
   "source": [
    "import logging\n",
    "import os\n",
    "\n",
    "import geopandas as gpd\n",
    "\n",
    "import deafrica_waterbodies.attributes\n",
    "import deafrica_waterbodies.io\n",
    "from deafrica_waterbodies.cli.logs import logging_setup"
   ]
  },
  {
   "cell_type": "code",
   "execution_count": 2,
   "id": "f84dce1e-c5a4-4c38-bad6-a4c97efaf64b",
   "metadata": {},
   "outputs": [],
   "source": [
    "import os\n",
    "\n",
    "# These are the default AWS configurations for the Analysis Sandbox.\n",
    "# that are set in the environmnet variables.\n",
    "aws_default_config = {\n",
    "    # \"AWS_NO_SIGN_REQUEST\": \"YES\",\n",
    "    \"AWS_SECRET_ACCESS_KEY\": \"fake\",\n",
    "    \"AWS_ACCESS_KEY_ID\": \"fake\",\n",
    "}\n",
    "\n",
    "# To access public bucket, need to remove the AWS credentials in\n",
    "# the environment variables or the following error will occur.\n",
    "# PermissionError: The AWS Access Key Id you provided does not exist in our records.\n",
    "\n",
    "for key in aws_default_config.keys():\n",
    "    if key in os.environ:\n",
    "        del os.environ[key]"
   ]
  },
  {
   "cell_type": "code",
   "execution_count": 3,
   "id": "4da721f5-a525-48b5-ba43-35ad774c0e15",
   "metadata": {},
   "outputs": [],
   "source": [
    "verbose = 1\n",
    "output_directory = \"s3://deafrica-waterbodies-dev/test_out_dir/0-0-1/shapefile\"\n",
    "product_version = \"0.0.1\"\n",
    "timeseries_bucket = \"deafrica-waterbodies-dev\""
   ]
  },
  {
   "cell_type": "code",
   "execution_count": 4,
   "id": "5820b0b0-9390-4aa4-b33c-72cd3f7dbeb5",
   "metadata": {},
   "outputs": [],
   "source": [
    "# Set up logger.\n",
    "logging_setup(verbose=verbose)\n",
    "_log = logging.getLogger(__name__)"
   ]
  },
  {
   "cell_type": "code",
   "execution_count": 5,
   "id": "ae7fb272-f07d-46af-a09a-937f69058f33",
   "metadata": {},
   "outputs": [],
   "source": [
    "# Support pathlib paths.\n",
    "output_directory = str(output_directory)"
   ]
  },
  {
   "cell_type": "code",
   "execution_count": 6,
   "id": "a4c9c94e-9996-4628-8a67-2d3544045613",
   "metadata": {},
   "outputs": [
    {
     "name": "stdout",
     "output_type": "stream",
     "text": [
      "[2023-10-05 18:30:23,795] {1292984903.py:1} INFO - Loading filtered waterbody polygons...\n",
      "[2023-10-05 18:30:24,216] {1292984903.py:4} INFO - Waterbody polygons count 11700.\n"
     ]
    }
   ],
   "source": [
    "_log.info(\"Loading filtered waterbody polygons...\")\n",
    "filtered_polygons_fp = os.path.join(output_directory, \"filtered_polygons.parquet\")\n",
    "filtered_polygons = gpd.read_parquet(filtered_polygons_fp)\n",
    "_log.info(f\"Waterbody polygons count {len(filtered_polygons)}.\")"
   ]
  },
  {
   "cell_type": "code",
   "execution_count": 7,
   "id": "e0531bba-267e-434e-87ee-63163c8ebc64",
   "metadata": {},
   "outputs": [],
   "source": [
    "waterbodies_gdf = deafrica_waterbodies.attributes.assign_unique_ids(polygons=filtered_polygons)\n",
    "waterbodies_gdf = deafrica_waterbodies.attributes.add_area_and_perimeter_attributes(polygons=waterbodies_gdf)\n",
    "waterbodies_gdf = deafrica_waterbodies.attributes.add_timeseries_attribute(\n",
    "    polygons=waterbodies_gdf, product_version=product_version, timeseries_bucket=timeseries_bucket\n",
    ")"
   ]
  },
  {
   "cell_type": "code",
   "execution_count": 8,
   "id": "9375b3e4-acd6-45c9-a036-09502778f1c1",
   "metadata": {},
   "outputs": [],
   "source": [
    "# Reproject to EPSG:4326\n",
    "waterbodies_gdf_4326 = waterbodies_gdf.to_crs(\"EPSG:4326\")"
   ]
  },
  {
   "cell_type": "code",
   "execution_count": 9,
   "id": "7376df4a-b972-40c8-b639-b6fc8d42e407",
   "metadata": {},
   "outputs": [
    {
     "name": "stdout",
     "output_type": "stream",
     "text": [
      "[2023-10-05 18:30:26,419] {collection.py:558} WARNING - Value 208616399.944799989 of field area_m2 of feature 2521 not successfully written. Possibly due to too larger number with respect to field width\n",
      "[2023-10-05 18:30:26,930] {collection.py:558} WARNING - Value 110891699.963799998 of field area_m2 of feature 5155 not successfully written. Possibly due to too larger number with respect to field width\n",
      "[2023-10-05 18:30:27,288] {collection.py:558} WARNING - Value 155855699.958400011 of field area_m2 of feature 7017 not successfully written. Possibly due to too larger number with respect to field width\n",
      "[2023-10-05 18:30:27,315] {collection.py:558} WARNING - Value 174557699.953099996 of field area_m2 of feature 7122 not successfully written. Possibly due to too larger number with respect to field width\n",
      "[2023-10-05 18:30:27,589] {collection.py:558} WARNING - Value 190799407.199099988 of field area_m2 of feature 8401 not successfully written. Possibly due to too larger number with respect to field width\n",
      "[2023-10-05 18:30:27,616] {collection.py:558} WARNING - Value 456057899.764800012 of field area_m2 of feature 8472 not successfully written. Possibly due to too larger number with respect to field width\n",
      "[2023-10-05 18:30:27,714] {collection.py:558} WARNING - Value 286167156.185400009 of field area_m2 of feature 8921 not successfully written. Possibly due to too larger number with respect to field width\n",
      "[2023-10-05 18:30:28,876] {io.py:238} INFO - Waterbody polygons written to s3://deafrica-waterbodies-dev/test_out_dir/0-0-1/shapefile/waterbodiesv0.shp\n"
     ]
    }
   ],
   "source": [
    "# Write to disk.\n",
    "deafrica_waterbodies.io.write_waterbodies_to_file(\n",
    "    waterbodies_gdf=waterbodies_gdf_4326, product_version=product_version, output_directory=output_directory\n",
    ")"
   ]
  }
 ],
 "metadata": {
  "kernelspec": {
   "display_name": "Python 3 (ipykernel)",
   "language": "python",
   "name": "python3"
  },
  "language_info": {
   "codemirror_mode": {
    "name": "ipython",
    "version": 3
   },
   "file_extension": ".py",
   "mimetype": "text/x-python",
   "name": "python",
   "nbconvert_exporter": "python",
   "pygments_lexer": "ipython3",
   "version": "3.10.12"
  }
 },
 "nbformat": 4,
 "nbformat_minor": 5
}
