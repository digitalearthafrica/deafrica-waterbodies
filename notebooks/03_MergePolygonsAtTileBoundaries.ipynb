{
 "cells": [
  {
   "cell_type": "code",
   "execution_count": 1,
   "id": "26660d9f-cd3c-4d3c-903e-4180eaec0532",
   "metadata": {},
   "outputs": [],
   "source": [
    "import logging\n",
    "import os\n",
    "\n",
    "import click\n",
    "import geopandas as gpd\n",
    "import pandas as pd\n",
    "\n",
    "import deafrica_waterbodies.io\n",
    "import deafrica_waterbodies.make_polygons\n",
    "from deafrica_waterbodies.cli.logs import logging_setup"
   ]
  },
  {
   "cell_type": "code",
   "execution_count": 2,
   "id": "6b561b0c-0d09-4114-a788-f7a6813b69ed",
   "metadata": {},
   "outputs": [],
   "source": [
    "import os\n",
    "\n",
    "# These are the default AWS configurations for the Analysis Sandbox.\n",
    "# that are set in the environmnet variables.\n",
    "aws_default_config = {\n",
    "    # \"AWS_NO_SIGN_REQUEST\": \"YES\",\n",
    "    \"AWS_SECRET_ACCESS_KEY\": \"fake\",\n",
    "    \"AWS_ACCESS_KEY_ID\": \"fake\",\n",
    "}\n",
    "\n",
    "# To access public bucket, need to remove the AWS credentials in\n",
    "# the environment variables or the following error will occur.\n",
    "# PermissionError: The AWS Access Key Id you provided does not exist in our records.\n",
    "\n",
    "for key in aws_default_config.keys():\n",
    "    if key in os.environ:\n",
    "        del os.environ[key]"
   ]
  },
  {
   "cell_type": "code",
   "execution_count": 3,
   "id": "d8a96c75-bf14-49c5-a633-5f24cd7ec93f",
   "metadata": {},
   "outputs": [],
   "source": [
    "verbose = 1   \n",
    "output_directory = \"s3://deafrica-waterbodies-dev/test_out_dir\""
   ]
  },
  {
   "cell_type": "code",
   "execution_count": 4,
   "id": "a7621524-43f3-4c9f-ab47-91c109d5e96c",
   "metadata": {},
   "outputs": [],
   "source": [
    "# Set up logger.\n",
    "logging_setup(verbose=verbose)\n",
    "_log = logging.getLogger(__name__)"
   ]
  },
  {
   "cell_type": "code",
   "execution_count": 5,
   "id": "d930428c-fa94-46d3-b829-43263dc25e72",
   "metadata": {},
   "outputs": [],
   "source": [
    "# Support pathlib paths.\n",
    "output_directory = str(output_directory)"
   ]
  },
  {
   "cell_type": "code",
   "execution_count": 6,
   "id": "b64b8f71-6a9d-495a-adb0-7d146df5a0c9",
   "metadata": {},
   "outputs": [],
   "source": [
    "# Directory containing the water body polygons generated from \n",
    "# thresholding WOfS All time summary scenes.\n",
    "polygons_from_thresholds_dir = os.path.join(output_directory, \"polygons_from_thresholds\")"
   ]
  },
  {
   "cell_type": "code",
   "execution_count": 7,
   "id": "d199cc4c-5d68-4480-9490-d3d46f34fd1b",
   "metadata": {},
   "outputs": [
    {
     "name": "stdout",
     "output_type": "stream",
     "text": [
      "[2023-10-04 07:55:34,283] {credentials.py:620} INFO - Found credentials in shared credentials file: ~/.aws/credentials\n",
      "[2023-10-04 07:55:34,558] {3351114371.py:5} INFO - Found 74 parquet files for the primary threshold polygons.\n"
     ]
    }
   ],
   "source": [
    "# Find all parquet files for the primary threshold.\n",
    "primary_threshold_polygons_paths = deafrica_waterbodies.io.find_parquet_files(\n",
    "    path=polygons_from_thresholds_dir, pattern=\".*primary.*\"\n",
    ")\n",
    "_log.info(f\"Found {len(primary_threshold_polygons_paths)} parquet files for the primary threshold polygons.\")"
   ]
  },
  {
   "cell_type": "code",
   "execution_count": 8,
   "id": "4db44721-ab19-487b-9ede-cb8fb36b986d",
   "metadata": {},
   "outputs": [
    {
     "name": "stdout",
     "output_type": "stream",
     "text": [
      "[2023-10-04 07:55:34,563] {370454188.py:2} INFO - Loading the primary threshold polygons parquet files..\n",
      "[2023-10-04 07:55:40,851] {370454188.py:9} INFO - Found 42728 primary threshold polygons.\n"
     ]
    }
   ],
   "source": [
    "# Load all the primary threshold polygons into a single GeoDataFrame.\n",
    "_log.info(\"Loading the primary threshold polygons parquet files..\")\n",
    "primary_threshold_polygons_list = []\n",
    "for path in primary_threshold_polygons_paths:\n",
    "    gdf = gpd.read_parquet(path)\n",
    "    primary_threshold_polygons_list.append(gdf)\n",
    "\n",
    "primary_threshold_polygons = pd.concat(primary_threshold_polygons_list, ignore_index=True)\n",
    "_log.info(f\"Found {len(primary_threshold_polygons)} primary threshold polygons.\")"
   ]
  },
  {
   "cell_type": "code",
   "execution_count": 9,
   "id": "700846f1-d3f3-4add-93a3-5245879a7412",
   "metadata": {},
   "outputs": [
    {
     "name": "stdout",
     "output_type": "stream",
     "text": [
      "[2023-10-04 07:55:40,856] {2486117815.py:1} INFO - Merging primary threshold waterbody polygons located at dataset/scene boundaries...\n",
      "[2023-10-04 07:55:46,235] {2486117815.py:7} INFO - Primary threshold polygons count 42588.\n"
     ]
    }
   ],
   "source": [
    "_log.info(\"Merging primary threshold waterbody polygons located at dataset/scene boundaries...\")\n",
    "primary_threshold_polygons_merged = (\n",
    "    deafrica_waterbodies.make_polygons.merge_polygons_at_dataset_boundaries(\n",
    "        primary_threshold_polygons\n",
    "    )\n",
    ")\n",
    "_log.info(f\"Primary threshold polygons count {len(primary_threshold_polygons_merged)}.\")"
   ]
  },
  {
   "cell_type": "code",
   "execution_count": 10,
   "id": "80ff255c-48fd-47e9-9304-35ca88971bf7",
   "metadata": {},
   "outputs": [
    {
     "name": "stdout",
     "output_type": "stream",
     "text": [
      "[2023-10-04 07:55:46,240] {2868347883.py:1} INFO - Writing primary threshold polygons merged at dataset boundaries to disk..\n",
      "[2023-10-04 07:55:46,576] {2868347883.py:7} INFO - Polygons written to s3://deafrica-waterbodies-dev/test_out_dir/primary_threshold_polygons_merged_at_ds_boundaries.parquet\n"
     ]
    }
   ],
   "source": [
    "_log.info(\"Writing primary threshold polygons merged at dataset boundaries to disk..\")\n",
    "primary_threshold_polygons_output_fp = os.path.join(\n",
    "    output_directory, \"primary_threshold_polygons_merged_at_ds_boundaries.parquet\"\n",
    ")\n",
    "\n",
    "primary_threshold_polygons_merged.to_parquet(primary_threshold_polygons_output_fp)\n",
    "_log.info(f\"Polygons written to {primary_threshold_polygons_output_fp}\")"
   ]
  },
  {
   "cell_type": "code",
   "execution_count": 11,
   "id": "3cc50c6c-aeab-4322-8192-422e66b7999f",
   "metadata": {},
   "outputs": [
    {
     "name": "stdout",
     "output_type": "stream",
     "text": [
      "[2023-10-04 07:55:46,637] {2573623230.py:5} INFO - Found 74 parquet files for the secondary threshold polygons.\n"
     ]
    }
   ],
   "source": [
    "# Find all parquet files for the secondary threshold.\n",
    "secondary_threshold_polygons_paths = deafrica_waterbodies.io.find_parquet_files(\n",
    "    path=polygons_from_thresholds_dir, pattern=\".*secondary.*\"\n",
    ")\n",
    "_log.info(f\"Found {len(secondary_threshold_polygons_paths)} parquet files for the secondary threshold polygons.\")"
   ]
  },
  {
   "cell_type": "code",
   "execution_count": 12,
   "id": "c36e5f38-72f4-49d0-bad8-d8ce70491ff5",
   "metadata": {},
   "outputs": [
    {
     "name": "stdout",
     "output_type": "stream",
     "text": [
      "[2023-10-04 07:55:46,642] {4278796675.py:2} INFO - Loading the secondary threshold polygons parquet files...\n",
      "[2023-10-04 07:55:53,743] {4278796675.py:9} INFO - Found 81652 secondary threshold polygons.\n"
     ]
    }
   ],
   "source": [
    "# Load all the secondary threshold polygons into a single GeoDataFrame.\n",
    "_log.info(\"Loading the secondary threshold polygons parquet files...\")\n",
    "secondary_threshold_polygons_list = []\n",
    "for path in secondary_threshold_polygons_paths:\n",
    "    gdf = gpd.read_parquet(path)\n",
    "    secondary_threshold_polygons_list.append(gdf)\n",
    "\n",
    "secondary_threshold_polygons = pd.concat(secondary_threshold_polygons_list, ignore_index=True)\n",
    "_log.info(f\"Found {len(secondary_threshold_polygons)} secondary threshold polygons.\")"
   ]
  },
  {
   "cell_type": "code",
   "execution_count": 13,
   "id": "f3586fd3-7f27-4574-8af8-2a689b7f25c7",
   "metadata": {},
   "outputs": [
    {
     "name": "stdout",
     "output_type": "stream",
     "text": [
      "[2023-10-04 07:55:53,748] {2569896688.py:1} INFO - Merging secondary threshold waterbody polygons located at dataset/scene boundaries...\n",
      "[2023-10-04 07:56:05,352] {2569896688.py:7} INFO - Secondary threshold polygons count 81450.\n"
     ]
    }
   ],
   "source": [
    "_log.info(\"Merging secondary threshold waterbody polygons located at dataset/scene boundaries...\")\n",
    "secondary_threshold_polygons_merged = (\n",
    "    deafrica_waterbodies.make_polygons.merge_polygons_at_dataset_boundaries(\n",
    "        secondary_threshold_polygons\n",
    "    )\n",
    ")\n",
    "_log.info(f\"Secondary threshold polygons count {len(secondary_threshold_polygons_merged)}.\")"
   ]
  },
  {
   "cell_type": "code",
   "execution_count": 14,
   "id": "7e0dd3b6-c6ef-42e9-aa48-857b7efe69cf",
   "metadata": {},
   "outputs": [
    {
     "name": "stdout",
     "output_type": "stream",
     "text": [
      "[2023-10-04 07:56:05,357] {4268535924.py:1} INFO - Writing secondary threshold polygons merged at dataset boundaries to disk..\n",
      "[2023-10-04 07:56:05,895] {4268535924.py:8} INFO - Polygons written to s3://deafrica-waterbodies-dev/test_out_dir/secondary_threshold_polygons_merged_at_ds_boundaries.parquet\n"
     ]
    }
   ],
   "source": [
    "_log.info(\"Writing secondary threshold polygons merged at dataset boundaries to disk..\")\n",
    "secondary_threshold_polygons_output_fp = os.path.join(\n",
    "    output_directory, \"secondary_threshold_polygons_merged_at_ds_boundaries.parquet\"\n",
    ")\n",
    "\n",
    "secondary_threshold_polygons_merged.to_parquet(secondary_threshold_polygons_output_fp)\n",
    "\n",
    "_log.info(f\"Polygons written to {secondary_threshold_polygons_output_fp}\")\n"
   ]
  }
 ],
 "metadata": {
  "kernelspec": {
   "display_name": "Python 3 (ipykernel)",
   "language": "python",
   "name": "python3"
  },
  "language_info": {
   "codemirror_mode": {
    "name": "ipython",
    "version": 3
   },
   "file_extension": ".py",
   "mimetype": "text/x-python",
   "name": "python",
   "nbconvert_exporter": "python",
   "pygments_lexer": "ipython3",
   "version": "3.10.12"
  }
 },
 "nbformat": 4,
 "nbformat_minor": 5
}
