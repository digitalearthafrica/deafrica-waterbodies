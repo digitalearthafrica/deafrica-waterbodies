{
 "cells": [
  {
   "cell_type": "code",
   "execution_count": 1,
   "id": "cdabd764-0960-4bcd-84f5-e007852c3869",
   "metadata": {},
   "outputs": [],
   "source": [
    "import logging\n",
    "import math\n",
    "import os\n",
    "\n",
    "import pandas as pd\n",
    "import geopandas as gpd\n",
    "from deafrica_waterbodies.cli.logs import logging_setup\n",
    "from deafrica_waterbodies.filters import fill_holes, filter_by_area"
   ]
  },
  {
   "cell_type": "code",
   "execution_count": 2,
   "id": "3af67100-ff19-440f-b6e5-fe5724244ee5",
   "metadata": {},
   "outputs": [],
   "source": [
    "# These are the default AWS configurations for the Analysis Sandbox.\n",
    "# that are set in the environmnet variables.\n",
    "aws_default_config = {\n",
    "    # \"AWS_NO_SIGN_REQUEST\": \"YES\",\n",
    "    \"AWS_SECRET_ACCESS_KEY\": \"fake\",\n",
    "    \"AWS_ACCESS_KEY_ID\": \"fake\",\n",
    "}\n",
    "\n",
    "# To access public bucket, need to remove the AWS credentials in\n",
    "# the environment variables or the following error will occur.\n",
    "# PermissionError: The AWS Access Key Id you provided does not exist in our records.\n",
    "\n",
    "for key in aws_default_config.keys():\n",
    "    if key in os.environ:\n",
    "        del os.environ[key]"
   ]
  },
  {
   "cell_type": "code",
   "execution_count": 3,
   "id": "7acc8246-b844-4e92-bc15-204bb54702e8",
   "metadata": {},
   "outputs": [],
   "source": [
    "verbose = 1\n",
    "output_directory = \"s3://deafrica-waterbodies-dev/test_out_dir/raster_processing/continental\"\n",
    "# output_directory = \"s3://deafrica-waterbodies-dev/0-0-1/shapefile/\"\n",
    "large_polygons_threshold = 10**6"
   ]
  },
  {
   "cell_type": "code",
   "execution_count": 4,
   "id": "32a30849-c86a-4b8a-947c-cc12245d618f",
   "metadata": {},
   "outputs": [],
   "source": [
    "# Set up logger.\n",
    "logging_setup(verbose=verbose)\n",
    "_log = logging.getLogger(__name__)"
   ]
  },
  {
   "cell_type": "code",
   "execution_count": 5,
   "id": "1670f7c9-b5bf-4c41-b1c7-150da3728985",
   "metadata": {},
   "outputs": [],
   "source": [
    "# Support pathlib paths.\n",
    "output_directory = str(output_directory)"
   ]
  },
  {
   "cell_type": "code",
   "execution_count": 6,
   "id": "e1a0e9e0-2af9-473c-bdd2-65b4d64032f2",
   "metadata": {},
   "outputs": [
    {
     "name": "stdout",
     "output_type": "stream",
     "text": [
      "[2023-10-23 11:19:40,565] {3544693789.py:2} INFO - Loading polygons...\n",
      "[2023-10-23 11:19:51,472] {3544693789.py:11} INFO - Raster polygons count 1075799.\n"
     ]
    }
   ],
   "source": [
    "# Load the raster polygons\n",
    "_log.info(\"Loading polygons...\")\n",
    "\n",
    "raster_polygons_fp = os.path.join(output_directory, \"raster_polygons_merged_at_tile_boundaries.parquet\")\n",
    "\n",
    "raster_polygons = gpd.read_parquet(raster_polygons_fp)\n",
    "\n",
    "# Drop the attributes column if it exists.\n",
    "raster_polygons.drop(columns=[\"attribute\"], errors=\"ignore\", inplace=True)\n",
    "\n",
    "_log.info(f\"Raster polygons count {len(raster_polygons)}.\")"
   ]
  },
  {
   "cell_type": "code",
   "execution_count": 7,
   "id": "d1fd7ad2-f1c6-4f20-95ab-30a9ebc1bbd8",
   "metadata": {},
   "outputs": [
    {
     "name": "stdout",
     "output_type": "stream",
     "text": [
      "[2023-10-23 11:19:51,477] {filters.py:117} INFO - Filtering 1075799 polygons by minimum area 1000000 and max area inf...\n",
      "[2023-10-23 11:19:51,796] {filters.py:130} INFO - Filtered out 1056504 polygons.\n",
      "[2023-10-23 11:19:51,796] {640283564.py:3} INFO - Count for polygons larger than 1000000 m2: 19295\n"
     ]
    }
   ],
   "source": [
    "# Identify the large polygons.\n",
    "large_polygons = filter_by_area(raster_polygons, min_polygon_size=large_polygons_threshold, max_polygon_size=math.inf)\n",
    "_log.info(f\"Count for polygons larger than {large_polygons_threshold} m2: {len(large_polygons)}\")"
   ]
  },
  {
   "cell_type": "code",
   "execution_count": 8,
   "id": "5e1dac6a-56d6-40b7-aaa5-e618ea000982",
   "metadata": {},
   "outputs": [
    {
     "name": "stdout",
     "output_type": "stream",
     "text": [
      "[2023-10-23 11:19:51,929] {2675327616.py:4} INFO - 19295 large polygons removed from raster polygons.\n"
     ]
    }
   ],
   "source": [
    "# Remove the large polygons from the raster polygons.\n",
    "large_polygons_idx = large_polygons.index.values\n",
    "raster_polygons_large_removed = raster_polygons.drop(index=large_polygons_idx)\n",
    "_log.info(f\"{len(raster_polygons) - len(raster_polygons_large_removed)} large polygons removed from raster polygons.\")"
   ]
  },
  {
   "cell_type": "code",
   "execution_count": 9,
   "id": "54410f6f-3ff7-457a-9e56-156128815a74",
   "metadata": {},
   "outputs": [
    {
     "name": "stdout",
     "output_type": "stream",
     "text": [
      "[2023-10-23 11:19:51,934] {<timed exec>:2} INFO - Filling holes in large polygons...\n",
      "CPU times: user 17.8 s, sys: 353 ms, total: 18.2 s\n",
      "Wall time: 18.1 s\n"
     ]
    }
   ],
   "source": [
    "%%time\n",
    "# Fill holes in the large polygons.\n",
    "_log.info(\"Filling holes in large polygons...\")\n",
    "large_polygons.geometry = large_polygons.geometry.apply(lambda p: fill_holes(p))"
   ]
  },
  {
   "cell_type": "code",
   "execution_count": 10,
   "id": "d89bc5d1-6a14-4450-b78a-4fd801aa576f",
   "metadata": {},
   "outputs": [
    {
     "name": "stdout",
     "output_type": "stream",
     "text": [
      "[2023-10-23 11:20:10,201] {3685114858.py:6} INFO - Polygon count after filling holes in large polygons 1075799.\n"
     ]
    }
   ],
   "source": [
    "# Add back in the large polygons with holes filled.\n",
    "raster_polygons_with_holes_filled = pd.concat([raster_polygons_large_removed, large_polygons], ignore_index=True)\n",
    "\n",
    "raster_polygons_with_holes_filled.drop(columns=[\"area_m2\"], errors=\"ignore\", inplace=True)\n",
    "\n",
    "_log.info(f\"Polygon count after filling holes in large polygons {len(raster_polygons_with_holes_filled)}.\")\n",
    "raster_polygons_with_holes_filled.to_parquet(os.path.join(output_directory, \"raster_polygons_with_holes_filled.parquet\"))"
   ]
  }
 ],
 "metadata": {
  "kernelspec": {
   "display_name": "Python 3 (ipykernel)",
   "language": "python",
   "name": "python3"
  },
  "language_info": {
   "codemirror_mode": {
    "name": "ipython",
    "version": 3
   },
   "file_extension": ".py",
   "mimetype": "text/x-python",
   "name": "python",
   "nbconvert_exporter": "python",
   "pygments_lexer": "ipython3",
   "version": "3.10.12"
  },
  "widgets": {
   "application/vnd.jupyter.widget-state+json": {
    "state": {},
    "version_major": 2,
    "version_minor": 0
   }
  }
 },
 "nbformat": 4,
 "nbformat_minor": 5
}
