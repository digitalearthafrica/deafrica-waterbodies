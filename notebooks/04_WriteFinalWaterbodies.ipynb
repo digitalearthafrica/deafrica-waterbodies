{
 "cells": [
  {
   "cell_type": "code",
   "execution_count": 1,
   "id": "41ab3fc2-410a-4d68-b108-de4105a606b8",
   "metadata": {},
   "outputs": [],
   "source": [
    "import logging\n",
    "import os\n",
    "import math\n",
    "\n",
    "import geopandas as gpd\n",
    "\n",
    "from deafrica_waterbodies.filters import filter_by_area\n",
    "from deafrica_waterbodies.attributes import (\n",
    "    add_area_and_perimeter_attributes,\n",
    "    add_timeseries_attribute,\n",
    "    assign_unique_ids,\n",
    ")\n",
    "from deafrica_waterbodies.cli.logs import logging_setup\n",
    "from deafrica_waterbodies.io import write_waterbodies_to_file"
   ]
  },
  {
   "cell_type": "code",
   "execution_count": 2,
   "id": "f84dce1e-c5a4-4c38-bad6-a4c97efaf64b",
   "metadata": {},
   "outputs": [],
   "source": [
    "import os\n",
    "\n",
    "# These are the default AWS configurations for the Analysis Sandbox.\n",
    "# that are set in the environmnet variables.\n",
    "aws_default_config = {\n",
    "    # \"AWS_NO_SIGN_REQUEST\": \"YES\",\n",
    "    \"AWS_SECRET_ACCESS_KEY\": \"fake\",\n",
    "    \"AWS_ACCESS_KEY_ID\": \"fake\",\n",
    "}\n",
    "\n",
    "# To access public bucket, need to remove the AWS credentials in\n",
    "# the environment variables or the following error will occur.\n",
    "# PermissionError: The AWS Access Key Id you provided does not exist in our records.\n",
    "\n",
    "for key in aws_default_config.keys():\n",
    "    if key in os.environ:\n",
    "        del os.environ[key]"
   ]
  },
  {
   "cell_type": "code",
   "execution_count": 3,
   "id": "4da721f5-a525-48b5-ba43-35ad774c0e15",
   "metadata": {},
   "outputs": [],
   "source": [
    "verbose = 1\n",
    "#output_directory = \"s3://deafrica-waterbodies-dev/test_out_dir/raster_processing/continental\"\n",
    "output_directory = \"s3://deafrica-waterbodies-dev/0-0-1/shapefile/\"\n",
    "min_polygon_size = 4500  # 5 pixels\n",
    "max_polygon_size = math.inf\n",
    "product_version = \"0.0.1\"\n",
    "timeseries_bucket = \"deafrica-waterbodies-dev\"\n",
    "file_name_prefix = \"senegalbasinwaterbodies\""
   ]
  },
  {
   "cell_type": "code",
   "execution_count": 4,
   "id": "2f860555-2a8d-461d-87bc-fe82f5dfd431",
   "metadata": {},
   "outputs": [],
   "source": [
    "# Set up logger.\n",
    "logging_setup(verbose=verbose)\n",
    "_log = logging.getLogger(__name__)"
   ]
  },
  {
   "cell_type": "code",
   "execution_count": 5,
   "id": "09a1670d-8ee1-4bf3-a7dd-36ef052f8ad4",
   "metadata": {},
   "outputs": [],
   "source": [
    "# Support pathlib paths.\n",
    "output_directory = str(output_directory)"
   ]
  },
  {
   "cell_type": "code",
   "execution_count": 6,
   "id": "567a03c4-17c9-496f-994e-8e0c9a5d6f88",
   "metadata": {},
   "outputs": [
    {
     "name": "stdout",
     "output_type": "stream",
     "text": [
      "[2023-10-18 21:10:20,808] {810598675.py:1} INFO - Loading raster polygons...\n",
      "[2023-10-18 21:10:21,586] {810598675.py:7} INFO - Raster polygons count 55103.\n"
     ]
    }
   ],
   "source": [
    "_log.info(\"Loading raster polygons...\")\n",
    "# Load the raster waterbody polygons.\n",
    "raster_polygons_fp = os.path.join(output_directory, \"raster_polygons_large_polygons_handled.parquet\")\n",
    "\n",
    "raster_polygons = gpd.read_parquet(raster_polygons_fp)\n",
    "\n",
    "_log.info(f\"Raster polygons count {len(raster_polygons)}.\")"
   ]
  },
  {
   "cell_type": "code",
   "execution_count": 7,
   "id": "1adbc884-fecd-4507-a7c0-46897053019b",
   "metadata": {},
   "outputs": [
    {
     "name": "stdout",
     "output_type": "stream",
     "text": [
      "[2023-10-18 21:10:21,804] {filters.py:117} INFO - Filtering 55103 polygons by minimum area 4500 and max area inf...\n",
      "[2023-10-18 21:10:21,832] {filters.py:130} INFO - Filtered out 18801 polygons.\n"
     ]
    }
   ],
   "source": [
    "# Filter the polygons by area.\n",
    "area_filtered_raster_polygons = filter_by_area(raster_polygons, min_polygon_size=min_polygon_size, max_polygon_size=max_polygon_size)\n",
    "area_filtered_raster_polygons.to_parquet(os.path.join(output_directory, \"area_filtered_raster_polygons.parquet\"))"
   ]
  },
  {
   "cell_type": "code",
   "execution_count": 8,
   "id": "3ee1f7d1-fc1a-48d1-9458-921ff812359d",
   "metadata": {},
   "outputs": [],
   "source": [
    "waterbodies_gdf = assign_unique_ids(polygons=area_filtered_raster_polygons)\n",
    "waterbodies_gdf = add_area_and_perimeter_attributes(polygons=waterbodies_gdf)\n",
    "waterbodies_gdf = add_timeseries_attribute(\n",
    "    polygons=waterbodies_gdf,\n",
    "    product_version=product_version,\n",
    "    timeseries_bucket=timeseries_bucket,\n",
    ")"
   ]
  },
  {
   "cell_type": "code",
   "execution_count": 9,
   "id": "1aede9ef-3a24-4b89-bcab-f247f6eb66a2",
   "metadata": {},
   "outputs": [],
   "source": [
    "# Reproject to EPSG:4326\n",
    "waterbodies_gdf_4326 = waterbodies_gdf.to_crs(\"EPSG:4326\")"
   ]
  },
  {
   "cell_type": "code",
   "execution_count": 10,
   "id": "c2363caf-d318-4dcf-a50c-9e995503ad43",
   "metadata": {},
   "outputs": [
    {
     "name": "stdout",
     "output_type": "stream",
     "text": [
      "[2023-10-18 21:10:59,414] {collection.py:558} WARNING - Value 274118399.845899999 of field area_m2 of feature 6980 not successfully written. Possibly due to too larger number with respect to field width\n",
      "[2023-10-18 21:10:59,717] {collection.py:558} WARNING - Value 149871071.809399992 of field area_m2 of feature 8213 not successfully written. Possibly due to too larger number with respect to field width\n",
      "[2023-10-18 21:11:00,658] {collection.py:558} WARNING - Value 589657499.686300039 of field area_m2 of feature 12686 not successfully written. Possibly due to too larger number with respect to field width\n",
      "[2023-10-18 21:11:00,803] {collection.py:558} WARNING - Value 934188299.48969996 of field area_m2 of feature 13296 not successfully written. Possibly due to too larger number with respect to field width\n",
      "[2023-10-18 21:11:01,590] {collection.py:558} WARNING - Value 336573164.483099997 of field area_m2 of feature 16944 not successfully written. Possibly due to too larger number with respect to field width\n",
      "[2023-10-18 21:11:02,183] {collection.py:558} WARNING - Value 854248499.631399989 of field area_m2 of feature 19790 not successfully written. Possibly due to too larger number with respect to field width\n",
      "[2023-10-18 21:11:02,446] {collection.py:558} WARNING - Value 275918293.937399983 of field area_m2 of feature 20802 not successfully written. Possibly due to too larger number with respect to field width\n",
      "[2023-10-18 21:11:02,588] {collection.py:558} WARNING - Value 227436299.939599991 of field area_m2 of feature 21421 not successfully written. Possibly due to too larger number with respect to field width\n",
      "[2023-10-18 21:11:03,151] {collection.py:558} WARNING - Value 130046399.957599998 of field area_m2 of feature 24017 not successfully written. Possibly due to too larger number with respect to field width\n",
      "[2023-10-18 21:11:03,472] {collection.py:558} WARNING - Value 101929399.333399996 of field area_m2 of feature 25150 not successfully written. Possibly due to too larger number with respect to field width\n",
      "[2023-10-18 21:11:03,611] {collection.py:558} WARNING - Value 163347299.956499994 of field area_m2 of feature 25809 not successfully written. Possibly due to too larger number with respect to field width\n",
      "[2023-10-18 21:11:03,637] {collection.py:558} WARNING - Value 186969599.949800014 of field area_m2 of feature 25920 not successfully written. Possibly due to too larger number with respect to field width\n",
      "[2023-10-18 21:11:04,011] {collection.py:558} WARNING - Value 460450799.762899995 of field area_m2 of feature 27732 not successfully written. Possibly due to too larger number with respect to field width\n",
      "[2023-10-18 21:11:04,142] {collection.py:558} WARNING - Value 288201716.32249999 of field area_m2 of feature 28282 not successfully written. Possibly due to too larger number with respect to field width\n",
      "[2023-10-18 21:11:04,483] {collection.py:558} WARNING - Value 989039137.926100016 of field area_m2 of feature 29170 not successfully written. Possibly due to too larger number with respect to field width\n",
      "[2023-10-18 21:11:04,681] {collection.py:558} WARNING - Value 261230299.83829999 of field area_m2 of feature 29869 not successfully written. Possibly due to too larger number with respect to field width\n",
      "[2023-10-18 21:11:07,812] {io.py:240} INFO - Waterbody polygons written to s3://deafrica-waterbodies-dev/0-0-1/shapefile/senegalbasinwaterbodiesv0.shp\n"
     ]
    }
   ],
   "source": [
    "# Write to disk.\n",
    "write_waterbodies_to_file(\n",
    "    waterbodies_gdf=waterbodies_gdf_4326,\n",
    "    product_version=product_version,\n",
    "    output_directory=output_directory,\n",
    "    file_name_prefix=file_name_prefix,\n",
    ")"
   ]
  }
 ],
 "metadata": {
  "kernelspec": {
   "display_name": "Python 3 (ipykernel)",
   "language": "python",
   "name": "python3"
  },
  "language_info": {
   "codemirror_mode": {
    "name": "ipython",
    "version": 3
   },
   "file_extension": ".py",
   "mimetype": "text/x-python",
   "name": "python",
   "nbconvert_exporter": "python",
   "pygments_lexer": "ipython3",
   "version": "3.10.12"
  }
 },
 "nbformat": 4,
 "nbformat_minor": 5
}
