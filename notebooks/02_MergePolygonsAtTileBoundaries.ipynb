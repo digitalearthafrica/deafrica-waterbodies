{
 "cells": [
  {
   "cell_type": "code",
   "execution_count": null,
   "id": "26660d9f-cd3c-4d3c-903e-4180eaec0532",
   "metadata": {},
   "outputs": [],
   "source": [
    "import logging\n",
    "import os\n",
    "\n",
    "import click\n",
    "import geopandas as gpd\n",
    "import pandas as pd\n",
    "from deafrica_waterbodies.cli.logs import logging_setup\n",
    "from deafrica_waterbodies.io import find_parquet_files\n",
    "from deafrica_waterbodies.make_polygons import merge_polygons_at_tile_boundaries"
   ]
  },
  {
   "cell_type": "code",
   "execution_count": null,
   "id": "6b561b0c-0d09-4114-a788-f7a6813b69ed",
   "metadata": {},
   "outputs": [],
   "source": [
    "# These are the default AWS configurations for the Analysis Sandbox.\n",
    "# that are set in the environmnet variables.\n",
    "aws_default_config = {\n",
    "    # \"AWS_NO_SIGN_REQUEST\": \"YES\",\n",
    "    \"AWS_SECRET_ACCESS_KEY\": \"fake\",\n",
    "    \"AWS_ACCESS_KEY_ID\": \"fake\",\n",
    "}\n",
    "\n",
    "# To access public bucket, need to remove the AWS credentials in\n",
    "# the environment variables or the following error will occur.\n",
    "# PermissionError: The AWS Access Key Id you provided does not exist in our records.\n",
    "\n",
    "for key in aws_default_config.keys():\n",
    "    if key in os.environ:\n",
    "        del os.environ[key]"
   ]
  },
  {
   "cell_type": "code",
   "execution_count": null,
   "id": "d8a96c75-bf14-49c5-a633-5f24cd7ec93f",
   "metadata": {},
   "outputs": [],
   "source": [
    "verbose = 1\n",
    "output_directory = \"s3://deafrica-waterbodies-dev/test_out_dir/raster_processing/continental\""
   ]
  },
  {
   "cell_type": "code",
   "execution_count": null,
   "id": "a7621524-43f3-4c9f-ab47-91c109d5e96c",
   "metadata": {},
   "outputs": [],
   "source": [
    "# Set up logger.\n",
    "logging_setup(verbose=verbose)\n",
    "_log = logging.getLogger(__name__)"
   ]
  },
  {
   "cell_type": "code",
   "execution_count": null,
   "id": "d930428c-fa94-46d3-b829-43263dc25e72",
   "metadata": {},
   "outputs": [],
   "source": [
    "# Support pathlib paths.\n",
    "output_directory = str(output_directory)"
   ]
  },
  {
   "cell_type": "code",
   "execution_count": null,
   "id": "b64b8f71-6a9d-495a-adb0-7d146df5a0c9",
   "metadata": {},
   "outputs": [],
   "source": [
    "# Directory containing the water body polygons generated from\n",
    "# thresholding WOfS All time summary datasets.\n",
    "polygons_from_thresholds_dir = os.path.join(output_directory, \"polygons_from_thresholds\")\n",
    "filtered_tiles_extents_gdf_fp = os.path.join(output_directory, \"tile_boundaries.parquet\")"
   ]
  },
  {
   "cell_type": "code",
   "execution_count": null,
   "id": "d199cc4c-5d68-4480-9490-d3d46f34fd1b",
   "metadata": {},
   "outputs": [],
   "source": [
    "# Find all parquet files for the raster processed polygons\n",
    "raster_polygon_paths = find_parquet_files(path=polygons_from_thresholds_dir, pattern=\".*raster_polygons.*\")\n",
    "_log.info(f\"Found {len(raster_polygon_paths)} parquet files for the raster polygons.\")"
   ]
  },
  {
   "cell_type": "code",
   "execution_count": null,
   "id": "4db44721-ab19-487b-9ede-cb8fb36b986d",
   "metadata": {},
   "outputs": [],
   "source": [
    "# Load all the polygons into a single GeoDataFrame.\n",
    "_log.info(\"Loading the raster polygons parquet files..\")\n",
    "raster_polygon_polygons_list = []\n",
    "for path in raster_polygon_paths:\n",
    "    gdf = gpd.read_parquet(path)\n",
    "    raster_polygon_polygons_list.append(gdf)\n",
    "\n",
    "raster_polygons = pd.concat(raster_polygon_polygons_list, ignore_index=True)\n",
    "_log.info(f\"Found {len(raster_polygons)} raster polygons.\")"
   ]
  },
  {
   "cell_type": "code",
   "execution_count": null,
   "id": "700846f1-d3f3-4add-93a3-5245879a7412",
   "metadata": {},
   "outputs": [],
   "source": [
    "_log.info(\"Loading tile boundaries....\")\n",
    "filtered_tiles_extents_gdf = gpd.read_parquet(filtered_tiles_extents_gdf_fp)\n",
    "\n",
    "_log.info(\"Merging raster waterbody polygons located at tile boundaries...\")\n",
    "raster_polygons_merged = merge_polygons_at_tile_boundaries(\n",
    "    raster_polygons, filtered_tiles_extents_gdf\n",
    ")\n",
    "_log.info(f\"Raster polygons count {len(raster_polygons_merged)}.\")"
   ]
  },
  {
   "cell_type": "code",
   "execution_count": null,
   "id": "80ff255c-48fd-47e9-9304-35ca88971bf7",
   "metadata": {},
   "outputs": [],
   "source": [
    "_log.info(\"Writing raster polygons merged at tile boundaries to disk..\")\n",
    "raster_polygons_output_fp = os.path.join(\n",
    "    output_directory, \"raster_polygons_merged_at_tile_boundaries.parquet\"\n",
    ")\n",
    "\n",
    "raster_polygons_merged.to_parquet(raster_polygons_output_fp)\n",
    "_log.info(f\"Polygons written to {raster_polygons_output_fp}\")"
   ]
  }
 ],
 "metadata": {
  "kernelspec": {
   "display_name": "Python 3 (ipykernel)",
   "language": "python",
   "name": "python3"
  },
  "language_info": {
   "codemirror_mode": {
    "name": "ipython",
    "version": 3
   },
   "file_extension": ".py",
   "mimetype": "text/x-python",
   "name": "python",
   "nbconvert_exporter": "python",
   "pygments_lexer": "ipython3",
   "version": "3.10.12"
  },
  "widgets": {
   "application/vnd.jupyter.widget-state+json": {
    "state": {},
    "version_major": 2,
    "version_minor": 0
   }
  }
 },
 "nbformat": 4,
 "nbformat_minor": 5
}
