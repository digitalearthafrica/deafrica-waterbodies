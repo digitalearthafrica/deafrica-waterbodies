{
 "cells": [
  {
   "cell_type": "markdown",
   "id": "51613694-4593-490e-89e7-6c20d290cc52",
   "metadata": {},
   "source": [
    "# Using the deafrica-waterbodies command line tool"
   ]
  },
  {
   "cell_type": "code",
   "execution_count": 1,
   "id": "513bd3b4-9f04-44da-8fe1-c8d471b034f7",
   "metadata": {},
   "outputs": [],
   "source": [
    "# Uncomment the line below to install deafrica-waterbodies\n",
    "#!python -m pip install ../."
   ]
  },
  {
   "cell_type": "markdown",
   "id": "1ebdfdc4-527e-41bb-8f5c-d2259ae896bf",
   "metadata": {
    "tags": []
   },
   "source": [
    "## Load the necessary python packages"
   ]
  },
  {
   "cell_type": "code",
   "execution_count": 2,
   "id": "2e42a904-9d7f-4780-9d9e-0328fcf9cb76",
   "metadata": {},
   "outputs": [],
   "source": [
    "import os\n",
    "import math\n",
    "import subprocess\n",
    "import geopandas as gpd"
   ]
  },
  {
   "cell_type": "markdown",
   "id": "d4d3bdb8-8457-4897-93d6-81774aa3dbea",
   "metadata": {},
   "source": [
    "## Analysis Parameters\n",
    "\n",
    "For each of the specified parameters below, see the [Turn water observations into waterbody polygons notebook](TurnWaterObservationsIntoWaterbodyPolygons.ipynb) for more details.\n",
    "\n",
    "If you wish to filter out major rivers and CBD areas from your waterbodies, please add the flags, \n",
    "`--remove-major-rivers` and `--remove-cbd` respectively and set the paths to the vector datasets you would like to use for filtering using `--major-rivers-mask-fp='<path to dataset>` and `--urban-mask-fp=<path to dataset>`."
   ]
  },
  {
   "cell_type": "code",
   "execution_count": 3,
   "id": "f4eab541-7f03-4170-ae16-ee23c0f16392",
   "metadata": {},
   "outputs": [],
   "source": [
    "# File path to the vector file defining our area of interest. \n",
    "vector_file_fp = \"/home/jovyan/Data/Waterbodies/InputDatasets/SenegalBasin.geojson\"\n",
    "primary_threshold = 0.1\n",
    "secondary_threshold = 0.05\n",
    "min_polygon_size = 4500\n",
    "max_polygon_size = math.inf\n",
    "land_sea_mask_fp = \"/home/jovyan/Data/Waterbodies/InputDatasets/goas_v01.gpkg\"\n",
    "#major_rivers_mask_fp\n",
    "#urban_mask_fp\n",
    "handle_large_polygons=\"erode-dilate-v2\"\n",
    "pp_test_threshold=0.005\n",
    "ouptut_folder=\"/home/jovyan/Data/Waterbodies/OutputDatasets\"\n",
    "output_base_filename=\"SenegalBasinWaterbodies\"\n",
    "output_file_type=\"GeoJSON\""
   ]
  },
  {
   "cell_type": "code",
   "execution_count": 4,
   "id": "48627ff9-ea87-4fa2-a994-f1b6e9ddcb4c",
   "metadata": {},
   "outputs": [
    {
     "data": {
      "text/plain": [
       "['/home/jovyan/.local/bin/deafrica-waterbodies',\n",
       " 'waterbodies-from-vector-file',\n",
       " '--vector-file-fp=/home/jovyan/Data/Waterbodies/InputDatasets/SenegalBasin.geojson',\n",
       " '-v',\n",
       " '--primary-threshold=0.1',\n",
       " '--secondary-threshold=0.05',\n",
       " '--min-polygon-size=4500',\n",
       " '--max-polygon-size=inf',\n",
       " '--remove-ocean-polygons',\n",
       " '--land-sea-mask-fp=/home/jovyan/Data/Waterbodies/InputDatasets/goas_v01.gpkg',\n",
       " '--handle-large-polygons=erode-dilate-v2',\n",
       " '--pp-test-threshold=0.005',\n",
       " '--ouptut-folder=/home/jovyan/Data/Waterbodies/OutputDatasets',\n",
       " '--output-base-filename=SenegalBasinWaterbodies',\n",
       " '--output-file-type=GeoJSON']"
      ]
     },
     "execution_count": 4,
     "metadata": {},
     "output_type": "execute_result"
    }
   ],
   "source": [
    "#The script deafrica-waterbodies is installed in '/home/jovyan/.local/bin' which is not on PATH.\n",
    "executable = \"/home/jovyan/.local/bin/deafrica-waterbodies\"\n",
    "cmd = f\"{executable} waterbodies-from-vector-file --vector-file-fp={vector_file_fp} -v \" \\\n",
    "f\"--primary-threshold={primary_threshold} --secondary-threshold={secondary_threshold} \" \\\n",
    "f\"--min-polygon-size={min_polygon_size} --max-polygon-size={max_polygon_size} \" \\\n",
    "f\"--remove-ocean-polygons --land-sea-mask-fp={land_sea_mask_fp} --handle-large-polygons={handle_large_polygons} \" \\\n",
    "f\"--pp-test-threshold={pp_test_threshold} --ouptut-folder={ouptut_folder} --output-base-filename={output_base_filename} \" \\\n",
    "f\"--output-file-type={output_file_type}\" \n",
    "\n",
    "run_cmd = cmd.split(\" \")\n",
    "run_cmd"
   ]
  },
  {
   "cell_type": "code",
   "execution_count": 5,
   "id": "035b2ca8-9b7c-4227-90fa-1916acd27902",
   "metadata": {},
   "outputs": [
    {
     "name": "stdout",
     "output_type": "stream",
     "text": [
      "[2023-08-23 14:16:27,927] {make_polygons.py:186} INFO - Running for the WOfS All Time Summary tiles covering the defined area of interest...\n",
      "[2023-08-23 14:16:27,927] {make_polygons.py:189} INFO - Setting up output directory\n",
      "[2023-08-23 14:16:27,927] {helpers.py:214} INFO - Output folder /home/jovyan/Data/Waterbodies/OutputDatasets/waterbodies_outputs created.\n",
      "[2023-08-23 14:16:27,928] {make_polygons.py:195} INFO - Loading tiles..\n",
      "[2023-08-23 14:16:29,119] {make_polygons.py:199} INFO - Generating the first temporary set of waterbody polygons.\n",
      "[2023-08-23 14:16:29,119] {make_polygons.py:67} INFO - We will be running a hybrid wetness threshold. \n",
      "**You have set 0.1 as the primary threshold, which will define the location of the waterbody polygons \n",
      " with 0.05 set as the supplementary threshold, which will define the extent/shape of the waterbody polygons.**\n",
      "[2023-08-23 14:16:29,407] {make_polygons.py:86} INFO - Generating polygons for tile: x164y097\n",
      "[2023-08-23 14:16:33,920] {make_polygons.py:86} INFO - Generating polygons for tile: x164y098\n",
      "[2023-08-23 14:16:50,879] {make_polygons.py:86} INFO - Generating polygons for tile: x165y096\n",
      "[2023-08-23 14:16:52,545] {make_polygons.py:86} INFO - Generating polygons for tile: x165y097\n",
      "[2023-08-23 14:16:54,585] {make_polygons.py:86} INFO - Generating polygons for tile: x165y098\n",
      "[2023-08-23 14:17:00,181] {make_polygons.py:86} INFO - Generating polygons for tile: x165y099\n",
      "[2023-08-23 14:17:01,873] {make_polygons.py:86} INFO - Generating polygons for tile: x166y095\n",
      "[2023-08-23 14:17:03,551] {make_polygons.py:86} INFO - Generating polygons for tile: x166y096\n",
      "[2023-08-23 14:17:05,115] {make_polygons.py:86} INFO - Generating polygons for tile: x166y097\n",
      "[2023-08-23 14:17:06,768] {make_polygons.py:86} INFO - Generating polygons for tile: x166y098\n",
      "[2023-08-23 14:17:16,574] {make_polygons.py:86} INFO - Generating polygons for tile: x166y099\n",
      "[2023-08-23 14:17:18,547] {make_polygons.py:86} INFO - Generating polygons for tile: x167y095\n",
      "[2023-08-23 14:17:20,195] {make_polygons.py:86} INFO - Generating polygons for tile: x167y096\n",
      "[2023-08-23 14:17:21,778] {make_polygons.py:86} INFO - Generating polygons for tile: x167y097\n",
      "[2023-08-23 14:17:26,877] {make_polygons.py:86} INFO - Generating polygons for tile: x167y098\n",
      "[2023-08-23 14:17:32,382] {make_polygons.py:86} INFO - Generating polygons for tile: x167y099\n",
      "[2023-08-23 14:17:34,742] {make_polygons.py:86} INFO - Generating polygons for tile: x168y090\n",
      "[2023-08-23 14:17:37,029] {make_polygons.py:86} INFO - Generating polygons for tile: x168y091\n",
      "[2023-08-23 14:17:39,093] {make_polygons.py:86} INFO - Generating polygons for tile: x168y092\n",
      "[2023-08-23 14:17:41,082] {make_polygons.py:86} INFO - Generating polygons for tile: x168y093\n",
      "[2023-08-23 14:17:43,047] {make_polygons.py:86} INFO - Generating polygons for tile: x168y094\n",
      "[2023-08-23 14:17:44,815] {make_polygons.py:86} INFO - Generating polygons for tile: x168y095\n",
      "[2023-08-23 14:17:46,569] {make_polygons.py:86} INFO - Generating polygons for tile: x168y096\n",
      "[2023-08-23 14:17:49,326] {make_polygons.py:86} INFO - Generating polygons for tile: x168y097\n",
      "[2023-08-23 14:17:52,138] {make_polygons.py:86} INFO - Generating polygons for tile: x168y098\n",
      "[2023-08-23 14:17:54,257] {make_polygons.py:86} INFO - Generating polygons for tile: x168y099\n",
      "[2023-08-23 14:17:56,319] {make_polygons.py:86} INFO - Generating polygons for tile: x169y090\n",
      "[2023-08-23 14:17:58,330] {make_polygons.py:86} INFO - Generating polygons for tile: x169y091\n",
      "[2023-08-23 14:18:00,883] {make_polygons.py:86} INFO - Generating polygons for tile: x169y092\n",
      "[2023-08-23 14:18:02,980] {make_polygons.py:86} INFO - Generating polygons for tile: x169y093\n",
      "[2023-08-23 14:18:05,247] {make_polygons.py:86} INFO - Generating polygons for tile: x169y094\n",
      "[2023-08-23 14:18:07,163] {make_polygons.py:86} INFO - Generating polygons for tile: x169y095\n",
      "[2023-08-23 14:18:09,168] {make_polygons.py:86} INFO - Generating polygons for tile: x169y096\n",
      "[2023-08-23 14:18:11,860] {make_polygons.py:86} INFO - Generating polygons for tile: x169y097\n",
      "[2023-08-23 14:18:13,754] {make_polygons.py:86} INFO - Generating polygons for tile: x169y098\n",
      "[2023-08-23 14:18:15,632] {make_polygons.py:86} INFO - Generating polygons for tile: x169y099\n",
      "[2023-08-23 14:18:17,444] {make_polygons.py:86} INFO - Generating polygons for tile: x169y100\n",
      "[2023-08-23 14:18:19,073] {make_polygons.py:86} INFO - Generating polygons for tile: x170y092\n",
      "[2023-08-23 14:18:21,439] {make_polygons.py:86} INFO - Generating polygons for tile: x170y093\n",
      "[2023-08-23 14:18:23,554] {make_polygons.py:86} INFO - Generating polygons for tile: x170y094\n",
      "[2023-08-23 14:18:26,072] {make_polygons.py:86} INFO - Generating polygons for tile: x170y095\n",
      "[2023-08-23 14:18:27,891] {make_polygons.py:86} INFO - Generating polygons for tile: x170y096\n",
      "[2023-08-23 14:18:29,985] {make_polygons.py:86} INFO - Generating polygons for tile: x170y097\n",
      "[2023-08-23 14:18:31,820] {make_polygons.py:86} INFO - Generating polygons for tile: x170y098\n",
      "[2023-08-23 14:18:33,776] {make_polygons.py:86} INFO - Generating polygons for tile: x170y099\n",
      "[2023-08-23 14:18:35,601] {make_polygons.py:86} INFO - Generating polygons for tile: x170y100\n",
      "[2023-08-23 14:18:37,377] {make_polygons.py:86} INFO - Generating polygons for tile: x171y092\n",
      "[2023-08-23 14:18:39,538] {make_polygons.py:86} INFO - Generating polygons for tile: x171y093\n",
      "[2023-08-23 14:18:41,569] {make_polygons.py:86} INFO - Generating polygons for tile: x171y094\n",
      "[2023-08-23 14:18:43,385] {make_polygons.py:86} INFO - Generating polygons for tile: x171y095\n",
      "[2023-08-23 14:18:45,343] {make_polygons.py:86} INFO - Generating polygons for tile: x171y096\n",
      "[2023-08-23 14:18:46,967] {make_polygons.py:86} INFO - Generating polygons for tile: x171y097\n",
      "[2023-08-23 14:18:49,057] {make_polygons.py:86} INFO - Generating polygons for tile: x171y098\n",
      "[2023-08-23 14:18:50,942] {make_polygons.py:86} INFO - Generating polygons for tile: x171y099\n",
      "[2023-08-23 14:18:52,552] {make_polygons.py:86} INFO - Generating polygons for tile: x171y100\n",
      "[2023-08-23 14:18:54,247] {make_polygons.py:86} INFO - Generating polygons for tile: x171y101\n",
      "[2023-08-23 14:18:55,958] {make_polygons.py:86} INFO - Generating polygons for tile: x172y092\n",
      "[2023-08-23 14:18:59,555] {make_polygons.py:86} INFO - Generating polygons for tile: x172y093\n",
      "[2023-08-23 14:19:01,899] {make_polygons.py:86} INFO - Generating polygons for tile: x172y094\n",
      "[2023-08-23 14:19:03,793] {make_polygons.py:86} INFO - Generating polygons for tile: x172y095\n",
      "[2023-08-23 14:19:05,951] {make_polygons.py:86} INFO - Generating polygons for tile: x172y096\n",
      "[2023-08-23 14:19:07,596] {make_polygons.py:86} INFO - Generating polygons for tile: x172y097\n",
      "[2023-08-23 14:19:09,332] {make_polygons.py:86} INFO - Generating polygons for tile: x172y098\n",
      "[2023-08-23 14:19:11,118] {make_polygons.py:86} INFO - Generating polygons for tile: x172y099\n",
      "[2023-08-23 14:19:12,755] {make_polygons.py:86} INFO - Generating polygons for tile: x172y100\n",
      "[2023-08-23 14:19:14,422] {make_polygons.py:86} INFO - Generating polygons for tile: x173y094\n",
      "[2023-08-23 14:19:16,665] {make_polygons.py:86} INFO - Generating polygons for tile: x173y095\n",
      "[2023-08-23 14:19:18,609] {make_polygons.py:86} INFO - Generating polygons for tile: x173y096\n",
      "[2023-08-23 14:19:20,281] {make_polygons.py:86} INFO - Generating polygons for tile: x173y097\n",
      "[2023-08-23 14:19:22,581] {make_polygons.py:86} INFO - Generating polygons for tile: x173y098\n",
      "[2023-08-23 14:19:24,556] {make_polygons.py:86} INFO - Generating polygons for tile: x173y099\n",
      "[2023-08-23 14:19:26,136] {make_polygons.py:86} INFO - Generating polygons for tile: x174y095\n",
      "[2023-08-23 14:19:29,852] {make_polygons.py:86} INFO - Generating polygons for tile: x174y096\n",
      "[2023-08-23 14:19:33,730] {make_polygons.py:86} INFO - Generating polygons for tile: x174y097\n",
      "[2023-08-23 14:19:35,885] {make_polygons.py:209} INFO - Merging polygons at tile boundaries...\n",
      "[2023-08-23 14:20:09,177] {make_polygons.py:213} INFO - Filtering waterbodies...\n",
      "[2023-08-23 14:20:09,178] {filters.py:112} INFO - Filtering the waterbody polygons using the minimum area 4500.0 and the maximum area inf.\n",
      "[2023-08-23 14:20:09,231] {filters.py:121} INFO - Filtering out ocean waterbody polygons\n",
      "[2023-08-23 14:21:11,412] {filters.py:156} INFO - You have chosen not to filter out waterbodies within CBDs. If you meant to use this option, please set `filter_out_urban_areas = True`, and set the path to your urban filter shapefile in `urban_mask_fp`.\n",
      "[2023-08-23 14:21:11,412] {filters.py:162} INFO - Finding polygons identified using the secondary threshold that intersect with those identified using the primary threshold.\n",
      "[2023-08-23 14:21:37,153] {filters.py:194} INFO - You have chosen not to filter out major rivers from the waterbodies. If you meant to use this option, please set `filter_out_rivers = True`, and set the path to your major rivers shapefile in `major_rivers_fp`.\n",
      "[2023-08-23 14:21:37,168] {filters.py:36} INFO - Splitting large polygons using the `erode-dilate-v2` method, using the threshold 0.005.\n",
      "[2023-08-23 14:25:24,724] {make_polygons.py:229} INFO - Assigning unique ids to each polygon....\n",
      "[2023-08-23 14:25:25,376] {make_polygons.py:232} INFO - Writing waterbodies to disk...\n",
      "[2023-08-23 14:25:31,872] {make_polygons.py:236} INFO - Waterbodies written to /home/jovyan/Data/Waterbodies/OutputDatasets/waterbodies_outputs/SenegalBasinWaterbodies.geojson\n"
     ]
    },
    {
     "data": {
      "text/plain": [
       "CompletedProcess(args=['/home/jovyan/.local/bin/deafrica-waterbodies', 'waterbodies-from-vector-file', '--vector-file-fp=/home/jovyan/Data/Waterbodies/InputDatasets/SenegalBasin.geojson', '-v', '--primary-threshold=0.1', '--secondary-threshold=0.05', '--min-polygon-size=4500', '--max-polygon-size=inf', '--remove-ocean-polygons', '--land-sea-mask-fp=/home/jovyan/Data/Waterbodies/InputDatasets/goas_v01.gpkg', '--handle-large-polygons=erode-dilate-v2', '--pp-test-threshold=0.005', '--ouptut-folder=/home/jovyan/Data/Waterbodies/OutputDatasets', '--output-base-filename=SenegalBasinWaterbodies', '--output-file-type=GeoJSON'], returncode=0)"
      ]
     },
     "execution_count": 5,
     "metadata": {},
     "output_type": "execute_result"
    }
   ],
   "source": [
    "subprocess.run(run_cmd)"
   ]
  },
  {
   "cell_type": "code",
   "execution_count": 6,
   "id": "e6448578-a001-48d6-b351-d257fbff1f5e",
   "metadata": {},
   "outputs": [],
   "source": [
    "# Read the output file.\n",
    "output_fp = \"/home/jovyan/Data/Waterbodies/OutputDatasets/waterbodies_outputs/SenegalBasinWaterbodies.geojson\"\n",
    "waterbodies =  gpd.read_file(output_fp)"
   ]
  },
  {
   "cell_type": "code",
   "execution_count": 7,
   "id": "91d62044-7924-4dec-af36-0e8a27819106",
   "metadata": {},
   "outputs": [
    {
     "data": {
      "text/plain": [
       "<Axes: >"
      ]
     },
     "execution_count": 7,
     "metadata": {},
     "output_type": "execute_result"
    },
    {
     "data": {
      "image/png": "[encoded data removed]",
      "text/plain": [
       "<Figure size 640x480 with 1 Axes>"
      ]
     },
     "metadata": {},
     "output_type": "display_data"
    }
   ],
   "source": [
    "# Plot the waterbodies. \n",
    "waterbodies.plot(edgecolor='k')"
   ]
  }
 ],
 "metadata": {
  "kernelspec": {
   "display_name": "Python 3 (ipykernel)",
   "language": "python",
   "name": "python3"
  },
  "language_info": {
   "codemirror_mode": {
    "name": "ipython",
    "version": 3
   },
   "file_extension": ".py",
   "mimetype": "text/x-python",
   "name": "python",
   "nbconvert_exporter": "python",
   "pygments_lexer": "ipython3",
   "version": "3.10.6"
  }
 },
 "nbformat": 4,
 "nbformat_minor": 5
}
