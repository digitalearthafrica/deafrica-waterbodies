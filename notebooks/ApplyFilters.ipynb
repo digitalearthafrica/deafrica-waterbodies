{
 "cells": [
  {
   "cell_type": "code",
   "execution_count": 1,
   "id": "35b518b7-59c1-42e5-8eca-4e6831a43018",
   "metadata": {},
   "outputs": [],
   "source": [
    "import logging\n",
    "\n",
    "import geopandas as gpd\n",
    "\n",
    "from deafrica_waterbodies.cli.logs import logging_setup\n",
    "from deafrica_waterbodies.filters import filter_using_land_sea_mask"
   ]
  },
  {
   "cell_type": "code",
   "execution_count": 2,
   "id": "597d7da8-d56e-472b-96c6-002f430e5e0f",
   "metadata": {},
   "outputs": [],
   "source": [
    "import os\n",
    "# These are the default AWS configurations for the Analysis Sandbox.\n",
    "# that are set in the environmnet variables.\n",
    "aws_default_config = {\n",
    "    # \"AWS_NO_SIGN_REQUEST\": \"YES\",\n",
    "    \"AWS_SECRET_ACCESS_KEY\": \"fake\",\n",
    "    \"AWS_ACCESS_KEY_ID\": \"fake\",\n",
    "}\n",
    "\n",
    "# To access public bucket, need to remove the AWS credentials in\n",
    "# the environment variables or the following error will occur.\n",
    "# PermissionError: The AWS Access Key Id you provided does not exist in our records.\n",
    "\n",
    "for key in aws_default_config.keys():\n",
    "    if key in os.environ:\n",
    "        del os.environ[key]"
   ]
  },
  {
   "cell_type": "code",
   "execution_count": 3,
   "id": "6de91524-3642-426e-8c86-711e4487cad4",
   "metadata": {},
   "outputs": [],
   "source": [
    "verbose = 1\n",
    "output_directory = \"s3://deafrica-waterbodies-dev/0-0-1/shapefile/\"\n",
    "polygons_vector_file = \"s3://deafrica-waterbodies-dev/0-0-1/shapefile/senegalbasinwaterbodiesv0_polygons_within_polygons_removed.parquet\"\n",
    "land_sea_mask_fp = \"data/goas_v01.shp\""
   ]
  },
  {
   "cell_type": "code",
   "execution_count": 4,
   "id": "98d95ab9-904b-4a2a-b2b3-5cd0dc1428eb",
   "metadata": {},
   "outputs": [],
   "source": [
    "# Set up logger.\n",
    "logging_setup(verbose=1)\n",
    "_log = logging.getLogger(__name__)"
   ]
  },
  {
   "cell_type": "code",
   "execution_count": 5,
   "id": "590920e7-7c91-4c14-8060-53395dc61214",
   "metadata": {},
   "outputs": [
    {
     "name": "stdout",
     "output_type": "stream",
     "text": [
      "[2023-10-19 20:38:52,414] {3539245125.py:2} INFO - Loading polygons...\n",
      "[2023-10-19 20:39:00,883] {3539245125.py:11} INFO - Polygons count 35009.\n"
     ]
    }
   ],
   "source": [
    "# Load the polygons\n",
    "_log.info(\"Loading polygons...\")\n",
    "\n",
    "try:\n",
    "    polygons_gdf = gpd.read_file(polygons_vector_file)\n",
    "except Exception as error:\n",
    "    _log.exception(f\"Could not read file {polygons_vector_file}\")\n",
    "    _log.error(error)\n",
    "    raise error\n",
    "else:\n",
    "    _log.info(f\"Polygons count {len(polygons_gdf)}.\")"
   ]
  },
  {
   "cell_type": "code",
   "execution_count": 6,
   "id": "3e3780dc-3cc6-459d-9171-d52c56999b01",
   "metadata": {},
   "outputs": [
    {
     "name": "stdout",
     "output_type": "stream",
     "text": [
      "[2023-10-19 20:39:00,890] {filters.py:159} INFO - Filtering out ocean polygons from the water body polygons...\n",
      "[2023-10-19 20:39:56,842] {filters.py:174} INFO - Filtered out 1111 water body polygons.\n"
     ]
    }
   ],
   "source": [
    "filtered_polygons_gdf = filter_using_land_sea_mask(polygons_gdf, land_sea_mask_fp)"
   ]
  },
  {
   "cell_type": "code",
   "execution_count": 7,
   "id": "ca5d977c-157f-4941-8417-7063886284fb",
   "metadata": {},
   "outputs": [],
   "source": [
    "filtered_polygons_fp = os.path.join(output_directory, \"filtered_using_land_sea_mask.parquet\")"
   ]
  },
  {
   "cell_type": "code",
   "execution_count": 8,
   "id": "e128cae9-b2c2-46bb-9339-223d94e26273",
   "metadata": {},
   "outputs": [],
   "source": [
    "filtered_polygons_gdf.to_parquet(filtered_polygons_fp)"
   ]
  }
 ],
 "metadata": {
  "kernelspec": {
   "display_name": "Python 3 (ipykernel)",
   "language": "python",
   "name": "python3"
  },
  "language_info": {
   "codemirror_mode": {
    "name": "ipython",
    "version": 3
   },
   "file_extension": ".py",
   "mimetype": "text/x-python",
   "name": "python",
   "nbconvert_exporter": "python",
   "pygments_lexer": "ipython3",
   "version": "3.10.12"
  }
 },
 "nbformat": 4,
 "nbformat_minor": 5
}
