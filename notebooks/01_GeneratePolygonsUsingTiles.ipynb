{
 "cells": [
  {
   "cell_type": "code",
   "execution_count": 1,
   "id": "3347ff15-1868-4c84-a330-d21b790c5d78",
   "metadata": {},
   "outputs": [],
   "source": [
    "import logging\n",
    "import os\n",
    "\n",
    "import click\n",
    "import datacube\n",
    "import fsspec\n",
    "import geopandas as gpd\n",
    "import pandas as pd\n",
    "from deafrica_waterbodies.cli.logs import logging_setup\n",
    "from deafrica_waterbodies.io import (\n",
    "    check_dir_exists,\n",
    "    check_file_exists,\n",
    "    check_if_s3_uri,\n",
    "    find_parquet_files,\n",
    ")\n",
    "from deafrica_waterbodies.make_polygons import (\n",
    "    set_wetness_thresholds,\n",
    "    process_raster_polygons,\n",
    "    merge_polygons_at_tile_boundaries\n",
    ")\n",
    "from deafrica_waterbodies.tiling import (\n",
    "    get_tiles,\n",
    ")"
   ]
  },
  {
   "cell_type": "code",
   "execution_count": 2,
   "id": "39c574ee-39c4-4931-b807-5d3f97900cd2",
   "metadata": {},
   "outputs": [],
   "source": [
    "# These are the default AWS configurations for the Analysis Sandbox.\n",
    "# that are set in the environmnet variables.\n",
    "aws_default_config = {\n",
    "    # \"AWS_NO_SIGN_REQUEST\": \"YES\",\n",
    "    \"AWS_SECRET_ACCESS_KEY\": \"fake\",\n",
    "    \"AWS_ACCESS_KEY_ID\": \"fake\",\n",
    "}\n",
    "\n",
    "# To access public bucket, need to remove the AWS credentials in\n",
    "# the environment variables or the following error will occur.\n",
    "# PermissionError: The AWS Access Key Id you provided does not exist in our records.\n",
    "\n",
    "for key in aws_default_config.keys():\n",
    "    if key in os.environ:\n",
    "        del os.environ[key]"
   ]
  },
  {
   "cell_type": "code",
   "execution_count": 3,
   "id": "2e50efa3-b5ba-44b3-b164-608d17e6413e",
   "metadata": {},
   "outputs": [],
   "source": [
    "verbose = 1\n",
    "\n",
    "# aoi_vector_file = None\n",
    "aoi_vector_file = \"data/SenegalBasin.geojson\"\n",
    "tile_size_factor = 4\n",
    "num_workers = 16\n",
    "\n",
    "detection_threshold: float = 0.1\n",
    "extent_threshold: float = 0.05\n",
    "min_valid_observations: int = 128\n",
    "# output_directory = \"s3://deafrica-waterbodies-dev/test_out_dir/raster_processing/continental\"\n",
    "output_directory = \"s3://deafrica-waterbodies-dev/0-0-1/shapefile/\"\n",
    "overwrite = True\n",
    "land_sea_mask_fp = \"data/af_msk_3s.tif\""
   ]
  },
  {
   "cell_type": "code",
   "execution_count": 4,
   "id": "e98a89fc-74fe-483b-89d5-b268c175d59c",
   "metadata": {},
   "outputs": [],
   "source": [
    "import xarray as xr\n",
    "def filter_hydrosheds_land_mask(hydrosheds_land_mask: xr.DataArray) -> xr.DataArray:\n",
    "    \"\"\"\n",
    "    Function to filter the HydroSHEDs Land Mask into a boolean mask.\n",
    "    \"\"\"\n",
    "    # Indicator values: 1 = land, 2 = ocean sink, 3 = inland sink, 255 is no data.\n",
    "    boolean_mask = (hydrosheds_land_mask != 255) & (hydrosheds_land_mask != 2)\n",
    "    return boolean_mask"
   ]
  },
  {
   "cell_type": "code",
   "execution_count": 5,
   "id": "e2dfbcc2-fd39-4900-815c-09a11c448b8d",
   "metadata": {},
   "outputs": [],
   "source": [
    "# Set up logger.\n",
    "logging_setup(verbose=verbose)\n",
    "_log = logging.getLogger(__name__)"
   ]
  },
  {
   "cell_type": "code",
   "execution_count": 6,
   "id": "9d0742d7-6ca2-4286-9313-3efda5173f38",
   "metadata": {},
   "outputs": [],
   "source": [
    "# Support pathlib Paths.\n",
    "if aoi_vector_file is not None:\n",
    "    aoi_vector_file = str(aoi_vector_file)\n",
    "output_directory = str(output_directory)"
   ]
  },
  {
   "cell_type": "code",
   "execution_count": 7,
   "id": "18db4ad8-7193-47e4-a4b4-44085924a793",
   "metadata": {},
   "outputs": [],
   "source": [
    "# Parameters to use when loading datasets.\n",
    "dask_chunks = {\"x\": 3200, \"y\": 3200, \"time\": 1}"
   ]
  },
  {
   "cell_type": "code",
   "execution_count": 8,
   "id": "95a0ca66-2695-42c8-968a-523151d514c0",
   "metadata": {},
   "outputs": [],
   "source": [
    "# Load the area of interest as a GeoDataFrame.\n",
    "if aoi_vector_file is not None:\n",
    "    try:\n",
    "        aoi_gdf = gpd.read_file(aoi_vector_file)\n",
    "    except Exception as error:\n",
    "        _log.exception(f\"Could not read the file {aoi_vector_file}\")\n",
    "        raise error\n",
    "else:\n",
    "    aoi_gdf = None"
   ]
  },
  {
   "cell_type": "code",
   "execution_count": 9,
   "id": "ea4b4349-4d9c-4e55-aae0-b661ccde8da0",
   "metadata": {},
   "outputs": [
    {
     "name": "stdout",
     "output_type": "stream",
     "text": [
      "[2023-10-18 17:18:47,412] {tiling.py:113} INFO - New tile size is (384000.0, 384000.0).\n",
      "[2023-10-18 17:18:49,335] {tiling.py:132} INFO - Number of wofs_ls_summary_alltime tiles: 329\n"
     ]
    },
    {
     "name": "stderr",
     "output_type": "stream",
     "text": [
      "329it [00:01, 222.54it/s]\n"
     ]
    },
    {
     "name": "stdout",
     "output_type": "stream",
     "text": [
      "[2023-10-18 17:18:51,006] {tiling.py:167} INFO - Filtered out 320 tiles.\n",
      "[2023-10-18 17:18:51,007] {tiling.py:168} INFO - Number of wofs_ls_summary_alltime tiles covering the area of interest: 9\n"
     ]
    }
   ],
   "source": [
    "# Get the tiles fo the wofs_ls_summary_alltime product.\n",
    "tiles, grid_workflow = get_tiles(aoi_gdf=aoi_gdf,\n",
    "                                 tile_size_factor=tile_size_factor,\n",
    "                                 num_workers=num_workers)"
   ]
  },
  {
   "cell_type": "code",
   "execution_count": 10,
   "id": "065f28f6-49f4-49c3-959f-1c55a30a4f18",
   "metadata": {},
   "outputs": [],
   "source": [
    "# For testing only work with 5 tiles.\n",
    "#import itertools\n",
    "# Initialize limit \n",
    "# N = 5\n",
    "# Using islice() + items() \n",
    "# Get first N items in dictionary \n",
    "# tiles = dict(itertools.islice(tiles.items(), N)) "
   ]
  },
  {
   "cell_type": "code",
   "execution_count": 11,
   "id": "73816db0-7445-423a-a616-9966187a0ab6",
   "metadata": {},
   "outputs": [],
   "source": [
    "# Directory to write generated waterbody polygons to.\n",
    "polygons_from_thresholds_dir = os.path.join(output_directory, \"polygons_from_thresholds\")"
   ]
  },
  {
   "cell_type": "code",
   "execution_count": 12,
   "id": "843a0c8b-9bc5-469e-8bc2-9a2a0588265b",
   "metadata": {},
   "outputs": [],
   "source": [
    "# Set the filesystem to use.\n",
    "if check_if_s3_uri(polygons_from_thresholds_dir):\n",
    "    fs = fsspec.filesystem(\"s3\")\n",
    "else:\n",
    "    fs = fsspec.filesystem(\"file\")"
   ]
  },
  {
   "cell_type": "code",
   "execution_count": 13,
   "id": "cbe40837-f598-4d7c-a3fd-6c1deb2b0589",
   "metadata": {},
   "outputs": [
    {
     "name": "stdout",
     "output_type": "stream",
     "text": [
      "[2023-10-18 17:18:51,230] {credentials.py:620} INFO - Found credentials in shared credentials file: ~/.aws/credentials\n",
      "[2023-10-18 17:18:51,551] {3896921575.py:4} INFO - Created directory s3://deafrica-waterbodies-dev/0-0-1/shapefile/polygons_from_thresholds\n"
     ]
    }
   ],
   "source": [
    "# Check if the directory exists. If it does not, create it.\n",
    "if not check_dir_exists(polygons_from_thresholds_dir):\n",
    "    fs.mkdirs(polygons_from_thresholds_dir, exist_ok=True)\n",
    "    _log.info(f\"Created directory {polygons_from_thresholds_dir}\")"
   ]
  },
  {
   "cell_type": "code",
   "execution_count": 14,
   "id": "1c85a8d3-9543-4a57-90b8-3ac5e6cae71c",
   "metadata": {},
   "outputs": [
    {
     "name": "stdout",
     "output_type": "stream",
     "text": [
      "[2023-10-18 17:18:51,556] {make_polygons.py:70} INFO - We will be running a hybrid wetness threshold.\n",
      "        You have set 0.1 as the location threshold, which will define the location of the water body polygons.\n",
      "        You have set 0.05 as the extent threshold, which will define the extent/shape of the water body polygons.\n"
     ]
    }
   ],
   "source": [
    "# Set the wetness thresholds.\n",
    "min_wet_thresholds = set_wetness_thresholds(detection_threshold=detection_threshold, extent_threshold=extent_threshold)"
   ]
  },
  {
   "cell_type": "code",
   "execution_count": 15,
   "id": "26f37f02-ce60-43c9-9dc4-4c5298b15a81",
   "metadata": {},
   "outputs": [
    {
     "name": "stdout",
     "output_type": "stream",
     "text": [
      "[2023-10-18 17:18:51,563] {2831178259.py:14} INFO - Generating water body polygons for tile (42, 24).\n",
      "[2023-10-18 17:20:10,495] {2831178259.py:29} INFO - Tile (42, 24) water body polygons written to s3://deafrica-waterbodies-dev/0-0-1/shapefile/polygons_from_thresholds/42_24_raster_polygons.parquet\n",
      "[2023-10-18 17:20:10,496] {2831178259.py:14} INFO - Generating water body polygons for tile (42, 25).\n",
      "[2023-10-18 17:21:22,068] {2831178259.py:29} INFO - Tile (42, 25) water body polygons written to s3://deafrica-waterbodies-dev/0-0-1/shapefile/polygons_from_thresholds/42_25_raster_polygons.parquet\n",
      "[2023-10-18 17:21:22,069] {2831178259.py:14} INFO - Generating water body polygons for tile (42, 23).\n",
      "[2023-10-18 17:22:36,065] {2831178259.py:29} INFO - Tile (42, 23) water body polygons written to s3://deafrica-waterbodies-dev/0-0-1/shapefile/polygons_from_thresholds/42_23_raster_polygons.parquet\n",
      "[2023-10-18 17:22:36,067] {2831178259.py:14} INFO - Generating water body polygons for tile (43, 23).\n",
      "[2023-10-18 17:23:59,218] {2831178259.py:29} INFO - Tile (43, 23) water body polygons written to s3://deafrica-waterbodies-dev/0-0-1/shapefile/polygons_from_thresholds/43_23_raster_polygons.parquet\n",
      "[2023-10-18 17:23:59,219] {2831178259.py:14} INFO - Generating water body polygons for tile (43, 25).\n",
      "[2023-10-18 17:25:08,099] {2831178259.py:23} INFO - Tile (43, 25) contains no water body polygons.\n",
      "[2023-10-18 17:25:08,100] {2831178259.py:14} INFO - Generating water body polygons for tile (43, 24).\n",
      "[2023-10-18 17:26:20,162] {2831178259.py:29} INFO - Tile (43, 24) water body polygons written to s3://deafrica-waterbodies-dev/0-0-1/shapefile/polygons_from_thresholds/43_24_raster_polygons.parquet\n",
      "[2023-10-18 17:26:20,163] {2831178259.py:14} INFO - Generating water body polygons for tile (41, 24).\n",
      "[2023-10-18 17:27:41,421] {2831178259.py:29} INFO - Tile (41, 24) water body polygons written to s3://deafrica-waterbodies-dev/0-0-1/shapefile/polygons_from_thresholds/41_24_raster_polygons.parquet\n",
      "[2023-10-18 17:27:41,422] {2831178259.py:14} INFO - Generating water body polygons for tile (41, 23).\n",
      "[2023-10-18 17:29:18,729] {2831178259.py:29} INFO - Tile (41, 23) water body polygons written to s3://deafrica-waterbodies-dev/0-0-1/shapefile/polygons_from_thresholds/41_23_raster_polygons.parquet\n",
      "[2023-10-18 17:29:18,730] {2831178259.py:14} INFO - Generating water body polygons for tile (42, 22).\n",
      "[2023-10-18 17:30:39,431] {2831178259.py:29} INFO - Tile (42, 22) water body polygons written to s3://deafrica-waterbodies-dev/0-0-1/shapefile/polygons_from_thresholds/42_22_raster_polygons.parquet\n"
     ]
    }
   ],
   "source": [
    "# Generate the first set of polygons for each of the tiles.\n",
    "for tile in tiles.items():\n",
    "    tile_id = tile[0]\n",
    "    raster_polygons_fp = os.path.join(polygons_from_thresholds_dir, f\"{tile_id[0]}_{tile_id[1]}_raster_polygons.parquet\")\n",
    "\n",
    "    if not overwrite:\n",
    "        _log.info(f\"Checking existence of {raster_polygons_fp}\")\n",
    "        exists = check_file_exists(raster_polygons_fp)\n",
    "        if exists:\n",
    "            _log.info(f\"{raster_polygons_fp} exists! \\n Skipping generating water body polygons for {tile_id}.\")\n",
    "\n",
    "    if overwrite or not exists:\n",
    "        try:\n",
    "            _log.info(f\"Generating water body polygons for tile {tile_id}.\")\n",
    "            raster_polygons = process_raster_polygons(tile=tile,\n",
    "                                                      grid_workflow=grid_workflow,\n",
    "                                                      dask_chunks=dask_chunks,\n",
    "                                                      min_valid_observations=min_valid_observations,\n",
    "                                                      min_wet_thresholds=min_wet_thresholds,\n",
    "                                                      land_sea_mask_fp=land_sea_mask_fp,\n",
    "                                                      filter_land_sea_mask=filter_hydrosheds_land_mask)\n",
    "            if raster_polygons.empty:\n",
    "                _log.info(f\"Tile {str(tile_id)} contains no water body polygons.\")\n",
    "            else:\n",
    "                # Drop the attributes column.\n",
    "                raster_polygons.drop(columns=[\"attribute\"], errors=\"ignore\", inplace=True)\n",
    "                # Write the polygons to parquet files.\n",
    "                raster_polygons.to_parquet(raster_polygons_fp)\n",
    "                _log.info(f\"Tile {str(tile_id)} water body polygons written to {raster_polygons_fp}\")\n",
    "        except Exception as error:\n",
    "            _log.exception(\n",
    "                f\"\\nTile {str(tile_id)} did not run. \\n\"\n",
    "            )\n",
    "            _log.exception(error)"
   ]
  },
  {
   "cell_type": "code",
   "execution_count": 16,
   "id": "27d552b8-32fd-427c-835b-92245f627d92",
   "metadata": {},
   "outputs": [
    {
     "name": "stdout",
     "output_type": "stream",
     "text": [
      "[2023-10-18 17:30:39,592] {1768085930.py:12} INFO - Tile boundaries written to s3://deafrica-waterbodies-dev/0-0-1/shapefile/tile_boundaries.parquet\n"
     ]
    }
   ],
   "source": [
    "# Get the extent for each tile.\n",
    "crs = grid_workflow.grid_spec.crs\n",
    "tile_ids = [tile[0] for tile in tiles.items()]\n",
    "tile_extents_geoms = [tile[1].geobox.extent.geom for tile in tiles.items()]\n",
    "tile_extents_gdf = gpd.GeoDataFrame({\"tile_id\":tile_ids, \"geometry\":tile_extents_geoms}, crs=crs)\n",
    "\n",
    "tile_extents_fp = os.path.join(\n",
    "    output_directory, \"tile_boundaries.parquet\"\n",
    ")\n",
    "\n",
    "tile_extents_gdf.to_parquet(tile_extents_fp)\n",
    "_log.info(f\"Tile boundaries written to {tile_extents_fp}\")"
   ]
  },
  {
   "cell_type": "code",
   "execution_count": 17,
   "id": "b394ffbb-bf75-4cc8-9c1c-09212772419a",
   "metadata": {},
   "outputs": [
    {
     "name": "stdout",
     "output_type": "stream",
     "text": [
      "[2023-10-18 17:30:39,655] {1335075486.py:3} INFO - Found 8 parquet files for the raster polygons.\n",
      "[2023-10-18 17:30:39,656] {1335075486.py:6} INFO - Loading the raster polygons parquet files..\n",
      "[2023-10-18 17:30:41,159] {1335075486.py:13} INFO - Found 54030 raster polygons.\n",
      "[2023-10-18 17:30:41,160] {1335075486.py:15} INFO - Merging raster waterbody polygons located at tile boundaries...\n",
      "[2023-10-18 17:30:46,298] {1335075486.py:19} INFO - Raster polygons count after merging polygons at tile boundaries 53977.\n",
      "[2023-10-18 17:30:46,299] {1335075486.py:21} INFO - Writing raster polygons merged at tile boundaries to disk..\n",
      "[2023-10-18 17:30:46,974] {1335075486.py:27} INFO - Polygons written to s3://deafrica-waterbodies-dev/0-0-1/shapefile/raster_polygons_merged_at_tile_boundaries.parquet\n"
     ]
    }
   ],
   "source": [
    "# Find all parquet files for the first set of polygons.\n",
    "raster_polygon_paths = find_parquet_files(path=polygons_from_thresholds_dir, pattern=\".*raster_polygons.*\")\n",
    "_log.info(f\"Found {len(raster_polygon_paths)} parquet files for the raster polygons.\")\n",
    "\n",
    "# Load all polygons into a single GeoDataFrame.\n",
    "_log.info(\"Loading the raster polygons parquet files..\")\n",
    "raster_polygon_polygons_list = []\n",
    "for path in raster_polygon_paths:\n",
    "    gdf = gpd.read_parquet(path)\n",
    "    raster_polygon_polygons_list.append(gdf)\n",
    "\n",
    "raster_polygons = pd.concat(raster_polygon_polygons_list, ignore_index=True)\n",
    "_log.info(f\"Found {len(raster_polygons)} raster polygons.\")\n",
    "\n",
    "_log.info(\"Merging raster waterbody polygons located at tile boundaries...\")\n",
    "raster_polygons_merged = merge_polygons_at_tile_boundaries(\n",
    "    raster_polygons, tile_extents_gdf\n",
    ")\n",
    "_log.info(f\"Raster polygons count after merging polygons at tile boundaries {len(raster_polygons_merged)}.\")\n",
    "\n",
    "_log.info(\"Writing raster polygons merged at tile boundaries to disk..\")\n",
    "raster_polygons_output_fp = os.path.join(\n",
    "    output_directory, \"raster_polygons_merged_at_tile_boundaries.parquet\"\n",
    ")\n",
    "\n",
    "raster_polygons_merged.to_parquet(raster_polygons_output_fp)\n",
    "_log.info(f\"Polygons written to {raster_polygons_output_fp}\")"
   ]
  }
 ],
 "metadata": {
  "kernelspec": {
   "display_name": "Python 3 (ipykernel)",
   "language": "python",
   "name": "python3"
  },
  "language_info": {
   "codemirror_mode": {
    "name": "ipython",
    "version": 3
   },
   "file_extension": ".py",
   "mimetype": "text/x-python",
   "name": "python",
   "nbconvert_exporter": "python",
   "pygments_lexer": "ipython3",
   "version": "3.10.12"
  },
  "widgets": {
   "application/vnd.jupyter.widget-state+json": {
    "state": {},
    "version_major": 2,
    "version_minor": 0
   }
  }
 },
 "nbformat": 4,
 "nbformat_minor": 5
}
