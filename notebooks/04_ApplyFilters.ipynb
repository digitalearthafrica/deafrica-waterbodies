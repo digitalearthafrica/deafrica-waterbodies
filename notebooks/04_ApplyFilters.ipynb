{
 "cells": [
  {
   "cell_type": "code",
   "execution_count": 1,
   "id": "cdabd764-0960-4bcd-84f5-e007852c3869",
   "metadata": {},
   "outputs": [],
   "source": [
    "import logging\n",
    "import math\n",
    "\n",
    "import deafrica_waterbodies.filters\n",
    "import geopandas as gpd\n",
    "import pandas as pd\n",
    "from deafrica_waterbodies.cli.logs import logging_setup"
   ]
  },
  {
   "cell_type": "code",
   "execution_count": 2,
   "id": "3af67100-ff19-440f-b6e5-fe5724244ee5",
   "metadata": {},
   "outputs": [],
   "source": [
    "import os\n",
    "\n",
    "# These are the default AWS configurations for the Analysis Sandbox.\n",
    "# that are set in the environmnet variables.\n",
    "aws_default_config = {\n",
    "    # \"AWS_NO_SIGN_REQUEST\": \"YES\",\n",
    "    \"AWS_SECRET_ACCESS_KEY\": \"fake\",\n",
    "    \"AWS_ACCESS_KEY_ID\": \"fake\",\n",
    "}\n",
    "\n",
    "# To access public bucket, need to remove the AWS credentials in\n",
    "# the environment variables or the following error will occur.\n",
    "# PermissionError: The AWS Access Key Id you provided does not exist in our records.\n",
    "\n",
    "for key in aws_default_config.keys():\n",
    "    if key in os.environ:\n",
    "        del os.environ[key]"
   ]
  },
  {
   "cell_type": "code",
   "execution_count": 3,
   "id": "7acc8246-b844-4e92-bc15-204bb54702e8",
   "metadata": {},
   "outputs": [],
   "source": [
    "verbose = 1\n",
    "output_directory = \"s3://deafrica-waterbodies-dev/test_out_dir/0-0-1/shapefile\"\n",
    "min_polygon_size = 4500  # 5 pixels\n",
    "max_polygon_size = math.inf\n",
    "land_sea_mask_fp = \"../../../WaterbodiesTests/GOaS_v1_20211214/goas_v01.shp\"\n",
    "major_rivers_mask_fp = \"\"\n",
    "urban_mask_fp = \"\"\n",
    "handle_large_polygons = \"erode-dilate-v2\"\n",
    "pp_test_threshold = 0.005"
   ]
  },
  {
   "cell_type": "code",
   "execution_count": 4,
   "id": "32a30849-c86a-4b8a-947c-cc12245d618f",
   "metadata": {},
   "outputs": [],
   "source": [
    "# Set up logger.\n",
    "logging_setup(verbose=verbose)\n",
    "_log = logging.getLogger(__name__)"
   ]
  },
  {
   "cell_type": "code",
   "execution_count": 5,
   "id": "1670f7c9-b5bf-4c41-b1c7-150da3728985",
   "metadata": {},
   "outputs": [],
   "source": [
    "# Support pathlib paths.\n",
    "output_directory = str(output_directory)"
   ]
  },
  {
   "cell_type": "code",
   "execution_count": 6,
   "id": "e1a0e9e0-2af9-473c-bdd2-65b4d64032f2",
   "metadata": {},
   "outputs": [
    {
     "name": "stdout",
     "output_type": "stream",
     "text": [
      "[2023-10-05 17:34:02,674] {7015612.py:2} INFO - Loading primary and secondary threshold polygons...\n",
      "[2023-10-05 17:34:03,461] {7015612.py:13} INFO - Primary threshold polygons count 42588.\n",
      "[2023-10-05 17:34:03,461] {7015612.py:14} INFO - Secondary threshold polygons count 81450.\n"
     ]
    }
   ],
   "source": [
    "# Load the primary and secondary threshold polygons\n",
    "_log.info(\"Loading primary and secondary threshold polygons...\")\n",
    "\n",
    "primary_threshold_polygons_fp = os.path.join(\n",
    "    output_directory, \"primary_threshold_polygons_merged_at_ds_boundaries.parquet\"\n",
    ")\n",
    "secondary_threshold_polygons_fp = os.path.join(\n",
    "    output_directory, \"secondary_threshold_polygons_merged_at_ds_boundaries.parquet\"\n",
    ")\n",
    "primary_threshold_polygons = gpd.read_parquet(primary_threshold_polygons_fp)\n",
    "secondary_threshold_polygons = gpd.read_parquet(secondary_threshold_polygons_fp)\n",
    "\n",
    "_log.info(f\"Primary threshold polygons count {len(primary_threshold_polygons)}.\")\n",
    "_log.info(f\"Secondary threshold polygons count {len(secondary_threshold_polygons)}.\")"
   ]
  },
  {
   "cell_type": "code",
   "execution_count": 7,
   "id": "8d08d600-b0ab-41c8-a2fa-43a6015609d5",
   "metadata": {},
   "outputs": [
    {
     "name": "stdout",
     "output_type": "stream",
     "text": [
      "[2023-10-05 17:34:03,467] {filters.py:126} INFO - Filtering primary threshold polygons by minimum area 4500 and max area inf...\n",
      "[2023-10-05 17:34:03,479] {filters.py:137} INFO - Filtered out 30951 primary threshold polygons.\n",
      "[2023-10-05 17:34:03,480] {filters.py:144} INFO - Filtering secondary threshold polygons by max area inf...\n",
      "[2023-10-05 17:34:03,503] {filters.py:150} INFO - Filtered out 0 secondary threshold polygons.\n",
      "[2023-10-05 17:34:03,848] {383104105.py:15} INFO - Area filtered primary threshold polygons written to s3://deafrica-waterbodies-dev/test_out_dir/0-0-1/shapefile/area_filtered_primary_threshold_polygons.parquet\n",
      "[2023-10-05 17:34:04,166] {383104105.py:21} INFO - Area filtered secondary threshold polygons written to s3://deafrica-waterbodies-dev/test_out_dir/0-0-1/shapefile/area_filtered_secondary_threshold_polygons.parquet\n"
     ]
    }
   ],
   "source": [
    "(\n",
    "    area_filtered_primary_threshold_polygons,\n",
    "    area_filtered_secondary_threshold_polygons,\n",
    ") = deafrica_waterbodies.filters.filter_by_area(\n",
    "    primary_threshold_polygons=primary_threshold_polygons,\n",
    "    secondary_threshold_polygons=secondary_threshold_polygons,\n",
    "    min_polygon_size=min_polygon_size,\n",
    "    max_polygon_size=max_polygon_size,\n",
    ")\n",
    "\n",
    "area_filtered_primary_threshold_polygons_fp = os.path.join(\n",
    "    output_directory, \"area_filtered_primary_threshold_polygons.parquet\"\n",
    ")\n",
    "area_filtered_primary_threshold_polygons.to_parquet(area_filtered_primary_threshold_polygons_fp)\n",
    "_log.info(f\"Area filtered primary threshold polygons written to {area_filtered_primary_threshold_polygons_fp}\")\n",
    "\n",
    "area_filtered_secondary_threshold_polygons_fp = os.path.join(\n",
    "    output_directory, \"area_filtered_secondary_threshold_polygons.parquet\"\n",
    ")\n",
    "area_filtered_secondary_threshold_polygons.to_parquet(area_filtered_secondary_threshold_polygons_fp)\n",
    "_log.info(f\"Area filtered secondary threshold polygons written to {area_filtered_secondary_threshold_polygons_fp}\")"
   ]
  },
  {
   "cell_type": "code",
   "execution_count": 8,
   "id": "aa18c51c-3e1a-44a9-80ce-17fcce0422fe",
   "metadata": {},
   "outputs": [
    {
     "name": "stdout",
     "output_type": "stream",
     "text": [
      "[2023-10-05 17:34:04,172] {filters.py:188} INFO - Filtering out ocean polygons from the primary and secondary threshold waterbody polygons...\n",
      "[2023-10-05 17:34:47,222] {filters.py:204} INFO - Filtered out 107 primary threshold polygons.\n",
      "[2023-10-05 17:34:53,671] {filters.py:215} INFO - Filtered out 107 secondary threshold polygons.\n",
      "[2023-10-05 17:34:54,030] {3083387701.py:12} INFO - Ocean filtered primary threshold polygons written to s3://deafrica-waterbodies-dev/test_out_dir/0-0-1/shapefile/inland_primary_threshold_polygons.parquet\n",
      "[2023-10-05 17:34:54,329] {3083387701.py:16} INFO - Ocean filtered secondary threshold polygons written to s3://deafrica-waterbodies-dev/test_out_dir/0-0-1/shapefile/inland_secondary_threshold_polygons.parquet\n"
     ]
    }
   ],
   "source": [
    "(\n",
    "    inland_primary_threshold_polygons,\n",
    "    inland_secondary_threshold_polygons,\n",
    ") = deafrica_waterbodies.filters.filter_using_land_sea_mask(\n",
    "    primary_threshold_polygons=area_filtered_primary_threshold_polygons,\n",
    "    secondary_threshold_polygons=area_filtered_secondary_threshold_polygons,\n",
    "    land_sea_mask_fp=land_sea_mask_fp,\n",
    ")\n",
    "\n",
    "inland_primary_threshold_polygons_fp = os.path.join(output_directory, \"inland_primary_threshold_polygons.parquet\")\n",
    "inland_primary_threshold_polygons.to_parquet(inland_primary_threshold_polygons_fp)\n",
    "_log.info(f\"Ocean filtered primary threshold polygons written to {inland_primary_threshold_polygons_fp}\")\n",
    "\n",
    "inland_secondary_threshold_polygons_fp = os.path.join(output_directory, \"inland_secondary_threshold_polygons.parquet\")\n",
    "inland_secondary_threshold_polygons.to_parquet(inland_secondary_threshold_polygons_fp)\n",
    "_log.info(f\"Ocean filtered secondary threshold polygons written to {inland_secondary_threshold_polygons_fp}\")"
   ]
  },
  {
   "cell_type": "code",
   "execution_count": 9,
   "id": "3f52b2bf-5fda-4eec-bddd-9603fb3775dc",
   "metadata": {},
   "outputs": [
    {
     "name": "stdout",
     "output_type": "stream",
     "text": [
      "[2023-10-05 17:34:54,336] {filters.py:291} INFO - Skipping filtering out CBDs step.\n",
      "[2023-10-05 17:34:54,624] {1718929370.py:11} INFO - CBDs filtered primary threshold polygons written to s3://deafrica-waterbodies-dev/test_out_dir/0-0-1/shapefile/cbd_filtered_primary_threshold_polygons.parquet\n",
      "[2023-10-05 17:34:54,952] {1718929370.py:17} INFO - CBDs filtered secondary threshold polygons written to s3://deafrica-waterbodies-dev/test_out_dir/0-0-1/shapefile/cbd_filtered_secondary_threshold_polygons.parquet\n"
     ]
    }
   ],
   "source": [
    "cbd_filtered_primary_threshold_polygons, cbd_filtered_secondary_threshold_polygons = deafrica_waterbodies.filters.filter_using_urban_mask(\n",
    "        primary_threshold_polygons=inland_primary_threshold_polygons,\n",
    "        secondary_threshold_polygons=inland_secondary_threshold_polygons,\n",
    "        urban_mask_fp=urban_mask_fp)\n",
    "\n",
    "\n",
    "cbd_filtered_primary_threshold_polygons_fp = os.path.join(\n",
    "    output_directory, \"cbd_filtered_primary_threshold_polygons.parquet\"\n",
    ")\n",
    "cbd_filtered_primary_threshold_polygons.to_parquet(cbd_filtered_primary_threshold_polygons_fp)\n",
    "_log.info(f\"CBDs filtered primary threshold polygons written to {cbd_filtered_primary_threshold_polygons_fp}\")\n",
    "\n",
    "cbd_filtered_secondary_threshold_polygons_fp = os.path.join(\n",
    "    output_directory, \"cbd_filtered_secondary_threshold_polygons.parquet\"\n",
    ")\n",
    "cbd_filtered_secondary_threshold_polygons.to_parquet(cbd_filtered_secondary_threshold_polygons_fp)\n",
    "_log.info(f\"CBDs filtered secondary threshold polygons written to {cbd_filtered_secondary_threshold_polygons_fp}\")"
   ]
  },
  {
   "cell_type": "code",
   "execution_count": 10,
   "id": "d65e3f21-228c-4856-b065-50157421bce0",
   "metadata": {},
   "outputs": [
    {
     "name": "stdout",
     "output_type": "stream",
     "text": [
      "[2023-10-05 17:34:54,959] {filters.py:316} INFO - Merging the primary threshold and secondary threshold polygons...\n",
      "[2023-10-05 17:35:15,157] {filters.py:337} INFO - Waterbody polygons count after merge: 11530.\n",
      "[2023-10-05 17:35:15,500] {<timed exec>:9} INFO - Merged waterbody polygons written to s3://deafrica-waterbodies-dev/test_out_dir/0-0-1/shapefile/merged_polygons.parquet\n",
      "CPU times: user 20.3 s, sys: 27.6 ms, total: 20.3 s\n",
      "Wall time: 20.5 s\n"
     ]
    }
   ],
   "source": [
    "%%time\n",
    "# Merge the primary and secondary threshold polygons.\n",
    "merged_polygons = deafrica_waterbodies.filters.merge_primary_and_secondary_threshold_polygons(\n",
    "    primary_threshold_polygons=cbd_filtered_primary_threshold_polygons,\n",
    "    secondary_threshold_polygons=cbd_filtered_secondary_threshold_polygons,\n",
    ")\n",
    "\n",
    "merged_polygons_fp = os.path.join(output_directory, \"merged_polygons.parquet\")\n",
    "merged_polygons.to_parquet(merged_polygons_fp)\n",
    "_log.info(f\"Merged waterbody polygons written to {merged_polygons_fp}\")"
   ]
  },
  {
   "cell_type": "code",
   "execution_count": 11,
   "id": "a2c4dc2a-e6d6-46f2-becf-912802d68344",
   "metadata": {},
   "outputs": [
    {
     "name": "stdout",
     "output_type": "stream",
     "text": [
      "[2023-10-05 17:35:15,507] {filters.py:381} INFO - Skipping filtering out major rivers polygons step.\n",
      "[2023-10-05 17:35:15,844] {3945903002.py:7} INFO - Major rivers filtered polygons written to s3://deafrica-waterbodies-dev/test_out_dir/0-0-1/shapefile/major_rivers_filtered_polygons.parquet\n"
     ]
    }
   ],
   "source": [
    "major_rivers_filtered_polygons = deafrica_waterbodies.filters.filter_using_major_rivers_mask(\n",
    "    waterbody_polygons=merged_polygons, major_rivers_mask_fp=major_rivers_mask_fp\n",
    ")\n",
    "\n",
    "major_rivers_filtered_polygons_fp = os.path.join(output_directory, \"major_rivers_filtered_polygons.parquet\")\n",
    "major_rivers_filtered_polygons.to_parquet(major_rivers_filtered_polygons_fp)\n",
    "_log.info(f\"Major rivers filtered polygons written to {major_rivers_filtered_polygons_fp}\")"
   ]
  },
  {
   "cell_type": "code",
   "execution_count": 12,
   "id": "c2f56b2e-b820-41cb-a8ef-5ba96291d15a",
   "metadata": {},
   "outputs": [
    {
     "name": "stdout",
     "output_type": "stream",
     "text": [
      "[2023-10-05 17:35:15,863] {filters.py:458} INFO - Splitting large polygons using the `erode-dilate-v2` method, using the threshold 0.005.\n",
      "[2023-10-05 17:37:13,815] {1033945788.py:7} INFO - Waterbody polygons count after splitting large polygons 11782.\n",
      "[2023-10-05 17:37:14,156] {1033945788.py:11} INFO - Waterbodies with large polygons handled written to s3://deafrica-waterbodies-dev/test_out_dir/0-0-1/shapefile/large_polygons_handled.parquet\n"
     ]
    }
   ],
   "source": [
    "# Handle large polygons.\n",
    "large_polygons_handled = deafrica_waterbodies.filters.split_large_polygons(\n",
    "    waterbody_polygons=major_rivers_filtered_polygons,\n",
    "    pp_thresh=pp_test_threshold,\n",
    "    method=handle_large_polygons\n",
    ")\n",
    "_log.info(f\"Waterbody polygons count after splitting large polygons {len(large_polygons_handled)}.\")\n",
    "\n",
    "large_polygons_handled_fp = os.path.join(output_directory, \"large_polygons_handled.parquet\")\n",
    "large_polygons_handled.to_parquet(large_polygons_handled_fp)\n",
    "_log.info(f\"Waterbodies with large polygons handled written to {large_polygons_handled_fp}\")"
   ]
  },
  {
   "cell_type": "code",
   "execution_count": 13,
   "id": "f08e4da4-ba78-48bb-85c6-c4e044cc5f14",
   "metadata": {},
   "outputs": [
    {
     "name": "stdout",
     "output_type": "stream",
     "text": [
      "[2023-10-05 17:37:14,162] {filters.py:126} INFO - Filtering primary threshold polygons by minimum area 4500 and max area inf...\n",
      "[2023-10-05 17:37:14,171] {filters.py:137} INFO - Filtered out 82 primary threshold polygons.\n",
      "[2023-10-05 17:37:14,499] {2615340852.py:11} INFO - Area filtered polygons written to s3://deafrica-waterbodies-dev/test_out_dir/0-0-1/shapefile/area_filtered_large_polygons_handled.parquet\n"
     ]
    }
   ],
   "source": [
    "# Reapply the size filtering, just to check that all of the split and filtered waterbodies are\n",
    "# still in the size range we want.\n",
    "area_filtered_large_polygons_handled, _ = deafrica_waterbodies.filters.filter_by_area(\n",
    "    primary_threshold_polygons=large_polygons_handled,\n",
    "    secondary_threshold_polygons=None,\n",
    "    min_polygon_size=min_polygon_size,\n",
    "    max_polygon_size=max_polygon_size)\n",
    "\n",
    "area_filtered_large_polygons_handled_fp = os.path.join(output_directory, \"area_filtered_large_polygons_handled.parquet\")\n",
    "area_filtered_large_polygons_handled.to_parquet(area_filtered_large_polygons_handled_fp)\n",
    "_log.info(f\"Area filtered polygons written to {area_filtered_large_polygons_handled_fp}\")"
   ]
  },
  {
   "cell_type": "code",
   "execution_count": 14,
   "id": "f47fd892-24d0-491b-873e-05ebefb3014d",
   "metadata": {},
   "outputs": [
    {
     "name": "stdout",
     "output_type": "stream",
     "text": [
      "[2023-10-05 17:37:14,814] {983404294.py:5} INFO - Filtered waterbody polygons written to s3://deafrica-waterbodies-dev/test_out_dir/0-0-1/shapefile/filtered_polygons.parquet\n"
     ]
    }
   ],
   "source": [
    "# Return a GeoDataFrame with the geometry column only.\n",
    "filtered_polygons = gpd.GeoDataFrame(geometry=area_filtered_large_polygons_handled[\"geometry\"], crs=area_filtered_large_polygons_handled.crs)\n",
    "filtered_polygons_fp = os.path.join(output_directory, \"filtered_polygons.parquet\")\n",
    "filtered_polygons.to_parquet(filtered_polygons_fp)\n",
    "_log.info(f\"Filtered waterbody polygons written to {filtered_polygons_fp}\")"
   ]
  }
 ],
 "metadata": {
  "kernelspec": {
   "display_name": "Python 3 (ipykernel)",
   "language": "python",
   "name": "python3"
  },
  "language_info": {
   "codemirror_mode": {
    "name": "ipython",
    "version": 3
   },
   "file_extension": ".py",
   "mimetype": "text/x-python",
   "name": "python",
   "nbconvert_exporter": "python",
   "pygments_lexer": "ipython3",
   "version": "3.10.12"
  }
 },
 "nbformat": 4,
 "nbformat_minor": 5
}
