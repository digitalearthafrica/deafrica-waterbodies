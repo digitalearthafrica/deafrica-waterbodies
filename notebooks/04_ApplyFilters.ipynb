{
 "cells": [
  {
   "cell_type": "code",
   "execution_count": 1,
   "id": "cdabd764-0960-4bcd-84f5-e007852c3869",
   "metadata": {},
   "outputs": [],
   "source": [
    "import logging\n",
    "import math\n",
    "import os\n",
    "\n",
    "import click\n",
    "import geopandas as gpd\n",
    "from deafrica_waterbodies.cli.logs import logging_setup\n",
    "from deafrica_waterbodies.filters import (\n",
    "    filter_by_area,\n",
    "    filter_using_land_sea_mask,\n",
    "    filter_using_major_rivers_mask,\n",
    "    filter_using_urban_mask,\n",
    "    merge_primary_and_secondary_threshold_polygons,\n",
    "    split_large_polygons,\n",
    ")"
   ]
  },
  {
   "cell_type": "code",
   "execution_count": 2,
   "id": "3af67100-ff19-440f-b6e5-fe5724244ee5",
   "metadata": {},
   "outputs": [],
   "source": [
    "import os\n",
    "\n",
    "# These are the default AWS configurations for the Analysis Sandbox.\n",
    "# that are set in the environmnet variables.\n",
    "aws_default_config = {\n",
    "    # \"AWS_NO_SIGN_REQUEST\": \"YES\",\n",
    "    \"AWS_SECRET_ACCESS_KEY\": \"fake\",\n",
    "    \"AWS_ACCESS_KEY_ID\": \"fake\",\n",
    "}\n",
    "\n",
    "# To access public bucket, need to remove the AWS credentials in\n",
    "# the environment variables or the following error will occur.\n",
    "# PermissionError: The AWS Access Key Id you provided does not exist in our records.\n",
    "\n",
    "for key in aws_default_config.keys():\n",
    "    if key in os.environ:\n",
    "        del os.environ[key]"
   ]
  },
  {
   "cell_type": "code",
   "execution_count": 3,
   "id": "7acc8246-b844-4e92-bc15-204bb54702e8",
   "metadata": {},
   "outputs": [],
   "source": [
    "verbose = 1\n",
    "output_directory = \"s3://deafrica-waterbodies-dev/test_out_dir/0-0-1/shapefile2\"\n",
    "min_polygon_size = 4500  # 5 pixels\n",
    "max_polygon_size = math.inf\n",
    "land_sea_mask_fp = \"\"\n",
    "major_rivers_mask_fp = \"\"\n",
    "urban_mask_fp = \"\"\n",
    "handle_large_polygons = \"nothing\"\n",
    "pp_test_threshold = 0.005"
   ]
  },
  {
   "cell_type": "code",
   "execution_count": 4,
   "id": "32a30849-c86a-4b8a-947c-cc12245d618f",
   "metadata": {},
   "outputs": [],
   "source": [
    "# Set up logger.\n",
    "logging_setup(verbose=verbose)\n",
    "_log = logging.getLogger(__name__)"
   ]
  },
  {
   "cell_type": "code",
   "execution_count": 5,
   "id": "1670f7c9-b5bf-4c41-b1c7-150da3728985",
   "metadata": {},
   "outputs": [],
   "source": [
    "# Support pathlib paths.\n",
    "output_directory = str(output_directory)"
   ]
  },
  {
   "cell_type": "code",
   "execution_count": 6,
   "id": "e1a0e9e0-2af9-473c-bdd2-65b4d64032f2",
   "metadata": {},
   "outputs": [
    {
     "name": "stdout",
     "output_type": "stream",
     "text": [
      "[2023-10-06 18:47:20,768] {7015612.py:2} INFO - Loading primary and secondary threshold polygons...\n",
      "[2023-10-06 18:47:21,486] {7015612.py:13} INFO - Primary threshold polygons count 42750.\n",
      "[2023-10-06 18:47:21,487] {7015612.py:14} INFO - Secondary threshold polygons count 81635.\n"
     ]
    }
   ],
   "source": [
    "# Load the primary and secondary threshold polygons\n",
    "_log.info(\"Loading primary and secondary threshold polygons...\")\n",
    "\n",
    "primary_threshold_polygons_fp = os.path.join(\n",
    "    output_directory, \"primary_threshold_polygons_merged_at_ds_boundaries.parquet\"\n",
    ")\n",
    "secondary_threshold_polygons_fp = os.path.join(\n",
    "    output_directory, \"secondary_threshold_polygons_merged_at_ds_boundaries.parquet\"\n",
    ")\n",
    "primary_threshold_polygons = gpd.read_parquet(primary_threshold_polygons_fp)\n",
    "secondary_threshold_polygons = gpd.read_parquet(secondary_threshold_polygons_fp)\n",
    "\n",
    "_log.info(f\"Primary threshold polygons count {len(primary_threshold_polygons)}.\")\n",
    "_log.info(f\"Secondary threshold polygons count {len(secondary_threshold_polygons)}.\")"
   ]
  },
  {
   "cell_type": "code",
   "execution_count": 7,
   "id": "8d08d600-b0ab-41c8-a2fa-43a6015609d5",
   "metadata": {},
   "outputs": [
    {
     "name": "stdout",
     "output_type": "stream",
     "text": [
      "[2023-10-06 18:47:21,493] {filters.py:127} INFO - Filtering primary threshold polygons by minimum area 4500 and max area inf...\n",
      "[2023-10-06 18:47:21,506] {filters.py:139} INFO - Filtered out 31040 primary threshold polygons.\n",
      "[2023-10-06 18:47:21,506] {filters.py:146} INFO - Filtering secondary threshold polygons by max area inf...\n",
      "[2023-10-06 18:47:21,530] {filters.py:153} INFO - Filtered out 0 secondary threshold polygons.\n",
      "[2023-10-06 18:47:21,837] {87560456.py:15} INFO - Area filtered primary threshold polygons written to s3://deafrica-waterbodies-dev/test_out_dir/0-0-1/shapefile2/area_filtered_primary_threshold_polygons.parquet\n",
      "[2023-10-06 18:47:22,393] {87560456.py:21} INFO - Area filtered secondary threshold polygons written to s3://deafrica-waterbodies-dev/test_out_dir/0-0-1/shapefile2/area_filtered_secondary_threshold_polygons.parquet\n"
     ]
    }
   ],
   "source": [
    "(\n",
    "    area_filtered_primary_threshold_polygons,\n",
    "    area_filtered_secondary_threshold_polygons,\n",
    ") = filter_by_area(\n",
    "    primary_threshold_polygons=primary_threshold_polygons,\n",
    "    secondary_threshold_polygons=secondary_threshold_polygons,\n",
    "    min_polygon_size=min_polygon_size,\n",
    "    max_polygon_size=max_polygon_size,\n",
    ")\n",
    "\n",
    "area_filtered_primary_threshold_polygons_fp = os.path.join(\n",
    "    output_directory, \"area_filtered_primary_threshold_polygons.parquet\"\n",
    ")\n",
    "area_filtered_primary_threshold_polygons.to_parquet(area_filtered_primary_threshold_polygons_fp)\n",
    "_log.info(f\"Area filtered primary threshold polygons written to {area_filtered_primary_threshold_polygons_fp}\")\n",
    "\n",
    "area_filtered_secondary_threshold_polygons_fp = os.path.join(\n",
    "    output_directory, \"area_filtered_secondary_threshold_polygons.parquet\"\n",
    ")\n",
    "area_filtered_secondary_threshold_polygons.to_parquet(area_filtered_secondary_threshold_polygons_fp)\n",
    "_log.info(f\"Area filtered secondary threshold polygons written to {area_filtered_secondary_threshold_polygons_fp}\")"
   ]
  },
  {
   "cell_type": "code",
   "execution_count": 8,
   "id": "aa18c51c-3e1a-44a9-80ce-17fcce0422fe",
   "metadata": {},
   "outputs": [
    {
     "name": "stdout",
     "output_type": "stream",
     "text": [
      "[2023-10-06 18:47:22,399] {filters.py:225} INFO - Skipping filtering out ocean polygons step.\n",
      "[2023-10-06 18:47:22,743] {2722900615.py:12} INFO - Ocean filtered primary threshold polygons written to s3://deafrica-waterbodies-dev/test_out_dir/0-0-1/shapefile2/inland_primary_threshold_polygons.parquet\n",
      "[2023-10-06 18:47:23,347] {2722900615.py:16} INFO - Ocean filtered secondary threshold polygons written to s3://deafrica-waterbodies-dev/test_out_dir/0-0-1/shapefile2/inland_secondary_threshold_polygons.parquet\n"
     ]
    }
   ],
   "source": [
    "(\n",
    "    inland_primary_threshold_polygons,\n",
    "    inland_secondary_threshold_polygons,\n",
    ") = filter_using_land_sea_mask(\n",
    "    primary_threshold_polygons=area_filtered_primary_threshold_polygons,\n",
    "    secondary_threshold_polygons=area_filtered_secondary_threshold_polygons,\n",
    "    land_sea_mask_fp=land_sea_mask_fp,\n",
    ")\n",
    "\n",
    "inland_primary_threshold_polygons_fp = os.path.join(output_directory, \"inland_primary_threshold_polygons.parquet\")\n",
    "inland_primary_threshold_polygons.to_parquet(inland_primary_threshold_polygons_fp)\n",
    "_log.info(f\"Ocean filtered primary threshold polygons written to {inland_primary_threshold_polygons_fp}\")\n",
    "\n",
    "inland_secondary_threshold_polygons_fp = os.path.join(output_directory, \"inland_secondary_threshold_polygons.parquet\")\n",
    "inland_secondary_threshold_polygons.to_parquet(inland_secondary_threshold_polygons_fp)\n",
    "_log.info(f\"Ocean filtered secondary threshold polygons written to {inland_secondary_threshold_polygons_fp}\")"
   ]
  },
  {
   "cell_type": "code",
   "execution_count": 9,
   "id": "3f52b2bf-5fda-4eec-bddd-9603fb3775dc",
   "metadata": {},
   "outputs": [
    {
     "name": "stdout",
     "output_type": "stream",
     "text": [
      "[2023-10-06 18:47:23,353] {filters.py:294} INFO - Skipping filtering out CBDs step.\n",
      "[2023-10-06 18:47:23,662] {2340062003.py:15} INFO - CBDs filtered primary threshold polygons written to s3://deafrica-waterbodies-dev/test_out_dir/0-0-1/shapefile2/cbd_filtered_primary_threshold_polygons.parquet\n",
      "[2023-10-06 18:47:24,170] {2340062003.py:21} INFO - CBDs filtered secondary threshold polygons written to s3://deafrica-waterbodies-dev/test_out_dir/0-0-1/shapefile2/cbd_filtered_secondary_threshold_polygons.parquet\n"
     ]
    }
   ],
   "source": [
    "(\n",
    "    cbd_filtered_primary_threshold_polygons,\n",
    "    cbd_filtered_secondary_threshold_polygons,\n",
    ") = filter_using_urban_mask(\n",
    "    primary_threshold_polygons=inland_primary_threshold_polygons,\n",
    "    secondary_threshold_polygons=inland_secondary_threshold_polygons,\n",
    "    urban_mask_fp=urban_mask_fp,\n",
    ")\n",
    "\n",
    "\n",
    "cbd_filtered_primary_threshold_polygons_fp = os.path.join(\n",
    "    output_directory, \"cbd_filtered_primary_threshold_polygons.parquet\"\n",
    ")\n",
    "cbd_filtered_primary_threshold_polygons.to_parquet(cbd_filtered_primary_threshold_polygons_fp)\n",
    "_log.info(f\"CBDs filtered primary threshold polygons written to {cbd_filtered_primary_threshold_polygons_fp}\")\n",
    "\n",
    "cbd_filtered_secondary_threshold_polygons_fp = os.path.join(\n",
    "    output_directory, \"cbd_filtered_secondary_threshold_polygons.parquet\"\n",
    ")\n",
    "cbd_filtered_secondary_threshold_polygons.to_parquet(cbd_filtered_secondary_threshold_polygons_fp)\n",
    "_log.info(f\"CBDs filtered secondary threshold polygons written to {cbd_filtered_secondary_threshold_polygons_fp}\")"
   ]
  },
  {
   "cell_type": "code",
   "execution_count": 10,
   "id": "d65e3f21-228c-4856-b065-50157421bce0",
   "metadata": {},
   "outputs": [
    {
     "name": "stdout",
     "output_type": "stream",
     "text": [
      "[2023-10-06 18:47:24,176] {filters.py:319} INFO - Merging the primary threshold and secondary threshold polygons...\n",
      "[2023-10-06 18:49:10,808] {filters.py:340} INFO - Waterbody polygons count after merge: 7164.\n",
      "[2023-10-06 18:49:11,201] {<timed exec>:9} INFO - Merged waterbody polygons written to s3://deafrica-waterbodies-dev/test_out_dir/0-0-1/shapefile2/merged_polygons.parquet\n",
      "CPU times: user 1min 46s, sys: 463 ms, total: 1min 46s\n",
      "Wall time: 1min 47s\n"
     ]
    }
   ],
   "source": [
    "%%time\n",
    "# Merge the primary and secondary threshold polygons.\n",
    "merged_polygons = merge_primary_and_secondary_threshold_polygons(\n",
    "    primary_threshold_polygons=cbd_filtered_primary_threshold_polygons,\n",
    "    secondary_threshold_polygons=cbd_filtered_secondary_threshold_polygons,\n",
    ")\n",
    "\n",
    "merged_polygons_fp = os.path.join(output_directory, \"merged_polygons.parquet\")\n",
    "merged_polygons.to_parquet(merged_polygons_fp)\n",
    "_log.info(f\"Merged waterbody polygons written to {merged_polygons_fp}\")"
   ]
  },
  {
   "cell_type": "code",
   "execution_count": 11,
   "id": "a2c4dc2a-e6d6-46f2-becf-912802d68344",
   "metadata": {},
   "outputs": [
    {
     "name": "stdout",
     "output_type": "stream",
     "text": [
      "[2023-10-06 18:49:11,209] {filters.py:384} INFO - Skipping filtering out major rivers polygons step.\n",
      "[2023-10-06 18:49:11,615] {1532569761.py:7} INFO - Major rivers filtered polygons written to s3://deafrica-waterbodies-dev/test_out_dir/0-0-1/shapefile2/major_rivers_filtered_polygons.parquet\n"
     ]
    }
   ],
   "source": [
    "major_rivers_filtered_polygons = filter_using_major_rivers_mask(\n",
    "    waterbody_polygons=merged_polygons, major_rivers_mask_fp=major_rivers_mask_fp\n",
    ")\n",
    "\n",
    "major_rivers_filtered_polygons_fp = os.path.join(output_directory, \"major_rivers_filtered_polygons.parquet\")\n",
    "major_rivers_filtered_polygons.to_parquet(major_rivers_filtered_polygons_fp)\n",
    "_log.info(f\"Major rivers filtered polygons written to {major_rivers_filtered_polygons_fp}\")"
   ]
  },
  {
   "cell_type": "code",
   "execution_count": 12,
   "id": "c2f56b2e-b820-41cb-a8ef-5ba96291d15a",
   "metadata": {},
   "outputs": [
    {
     "name": "stdout",
     "output_type": "stream",
     "text": [
      "[2023-10-06 18:49:11,639] {filters.py:458} INFO - You have chosen not to split large polygons. If you meant to use this option, please select one of the following methods: ['erode-dilate-v1', 'erode-dilate-v2'].\n",
      "[2023-10-06 18:49:11,640] {2125941619.py:5} INFO - Waterbody polygons count after splitting large polygons 7164.\n",
      "[2023-10-06 18:49:12,032] {2125941619.py:9} INFO - Waterbodies with large polygons handled written to s3://deafrica-waterbodies-dev/test_out_dir/0-0-1/shapefile2/large_polygons_handled_nothing.parquet\n"
     ]
    }
   ],
   "source": [
    "# Handle large polygons.\n",
    "large_polygons_handled = split_large_polygons(\n",
    "    waterbody_polygons=major_rivers_filtered_polygons, pp_thresh=pp_test_threshold, method=handle_large_polygons\n",
    ")\n",
    "_log.info(f\"Waterbody polygons count after splitting large polygons {len(large_polygons_handled)}.\")\n",
    "\n",
    "large_polygons_handled_fp = os.path.join(output_directory, f\"large_polygons_handled_{handle_large_polygons}.parquet\")\n",
    "large_polygons_handled.to_parquet(large_polygons_handled_fp)\n",
    "_log.info(f\"Waterbodies with large polygons handled written to {large_polygons_handled_fp}\")"
   ]
  },
  {
   "cell_type": "code",
   "execution_count": 13,
   "id": "f08e4da4-ba78-48bb-85c6-c4e044cc5f14",
   "metadata": {},
   "outputs": [
    {
     "name": "stdout",
     "output_type": "stream",
     "text": [
      "[2023-10-06 18:49:12,042] {filters.py:127} INFO - Filtering primary threshold polygons by minimum area 4500 and max area inf...\n",
      "[2023-10-06 18:49:12,054] {filters.py:139} INFO - Filtered out 621 primary threshold polygons.\n",
      "[2023-10-06 18:49:12,466] {1618256413.py:12} INFO - Area filtered polygons written to s3://deafrica-waterbodies-dev/test_out_dir/0-0-1/shapefile2/area_filtered_large_polygons_handled.parquet\n"
     ]
    }
   ],
   "source": [
    "# Reapply the size filtering, just to check that all of the split and filtered waterbodies are\n",
    "# still in the size range we want.\n",
    "area_filtered_large_polygons_handled, _ = filter_by_area(\n",
    "    primary_threshold_polygons=large_polygons_handled,\n",
    "    secondary_threshold_polygons=None,\n",
    "    min_polygon_size=min_polygon_size,\n",
    "    max_polygon_size=max_polygon_size,\n",
    ")\n",
    "\n",
    "area_filtered_large_polygons_handled_fp = os.path.join(output_directory, \"area_filtered_large_polygons_handled.parquet\")\n",
    "area_filtered_large_polygons_handled.to_parquet(area_filtered_large_polygons_handled_fp)\n",
    "_log.info(f\"Area filtered polygons written to {area_filtered_large_polygons_handled_fp}\")"
   ]
  },
  {
   "cell_type": "code",
   "execution_count": 14,
   "id": "f47fd892-24d0-491b-873e-05ebefb3014d",
   "metadata": {},
   "outputs": [
    {
     "name": "stdout",
     "output_type": "stream",
     "text": [
      "[2023-10-06 18:49:12,873] {1197084677.py:7} INFO - Filtered waterbody polygons written to s3://deafrica-waterbodies-dev/test_out_dir/0-0-1/shapefile2/filtered_polygons.parquet\n"
     ]
    }
   ],
   "source": [
    "# Return a GeoDataFrame with the geometry column only.\n",
    "filtered_polygons = gpd.GeoDataFrame(\n",
    "    geometry=area_filtered_large_polygons_handled[\"geometry\"], crs=area_filtered_large_polygons_handled.crs\n",
    ")\n",
    "filtered_polygons_fp = os.path.join(output_directory, \"filtered_polygons.parquet\")\n",
    "filtered_polygons.to_parquet(filtered_polygons_fp)\n",
    "_log.info(f\"Filtered waterbody polygons written to {filtered_polygons_fp}\")"
   ]
  }
 ],
 "metadata": {
  "kernelspec": {
   "display_name": "Python 3 (ipykernel)",
   "language": "python",
   "name": "python3"
  },
  "language_info": {
   "codemirror_mode": {
    "name": "ipython",
    "version": 3
   },
   "file_extension": ".py",
   "mimetype": "text/x-python",
   "name": "python",
   "nbconvert_exporter": "python",
   "pygments_lexer": "ipython3",
   "version": "3.10.12"
  }
 },
 "nbformat": 4,
 "nbformat_minor": 5
}
