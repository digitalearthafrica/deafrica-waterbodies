{
 "cells": [
  {
   "cell_type": "code",
   "execution_count": null,
   "id": "b607bfb4-872e-4e69-8be2-cbc7a6c686e7",
   "metadata": {},
   "outputs": [],
   "source": [
    "import os\n",
    "\n",
    "# These are the default AWS configurations for the Analysis Sandbox.\n",
    "# that are set in the environmnet variables.\n",
    "aws_default_config = {\n",
    "    # \"AWS_NO_SIGN_REQUEST\": \"YES\",\n",
    "    \"AWS_SECRET_ACCESS_KEY\": \"fake\",\n",
    "    \"AWS_ACCESS_KEY_ID\": \"fake\",\n",
    "}\n",
    "\n",
    "# To access public bucket, need to remove the AWS credentials in\n",
    "# the environment variables or the following error will occur.\n",
    "# PermissionError: The AWS Access Key Id you provided does not exist in our records.\n",
    "\n",
    "for key in aws_default_config.keys():\n",
    "    if key in os.environ:\n",
    "        del os.environ[key]"
   ]
  },
  {
   "cell_type": "code",
   "execution_count": null,
   "id": "c399025b-61f8-40bf-9c0f-5619e8a8b605",
   "metadata": {},
   "outputs": [],
   "source": [
    "import logging\n",
    "import math\n",
    "import os\n",
    "from importlib import import_module\n",
    "\n",
    "import click\n",
    "import fsspec\n",
    "import geopandas as gpd\n",
    "import pandas as pd\n",
    "from deafrica_waterbodies.attributes import (\n",
    "    add_polygon_properties,\n",
    "    add_timeseries_attribute,\n",
    "    assign_unique_ids,\n",
    ")\n",
    "from deafrica_waterbodies.cli.logs import logging_setup\n",
    "from deafrica_waterbodies.filters import filter_by_area, filter_by_length\n",
    "from deafrica_waterbodies.group_polygons import split_polygons_by_region\n",
    "from deafrica_waterbodies.io import (\n",
    "    check_dir_exists,\n",
    "    check_file_exists,\n",
    "    check_if_s3_uri,\n",
    "    find_parquet_files,\n",
    "    write_waterbodies_to_file,\n",
    ")\n",
    "from deafrica_waterbodies.make_polygons import (\n",
    "    merge_polygons_at_tile_boundaries,\n",
    "    process_raster_polygons,\n",
    "    set_wetness_thresholds,\n",
    ")\n",
    "from deafrica_waterbodies.plugins.utils import run_plugin, validate_plugin\n",
    "from deafrica_waterbodies.tiling import get_wofs_ls_summary_alltime_tiles"
   ]
  },
  {
   "cell_type": "code",
   "execution_count": null,
   "id": "9c92d45c-5adc-4fc9-8c40-b216f3a005a9",
   "metadata": {},
   "outputs": [],
   "source": [
    "verbose = 1\n",
    "aoi_vector_file=None\n",
    "tile_size_factor=4\n",
    "num_workers = 8\n",
    "detection_threshold = 0.1\n",
    "extent_threshold = 0.05\n",
    "min_valid_observations = 60\n",
    "raster_processing_plugin_name = \"ocean_filtering_using_hydrosheds\"\n",
    "output_directory = \"s3://deafrica-waterbodiParameters to use when loading datasets.es-dev/waterbodies/v0.0.2\"\n",
    "overwrite = \"True\"\n",
    "min_polygon_size = 4500\n",
    "max_polygon_size = math.inf\n",
    "length_threshold_km = 150\n",
    "timeseries_directory = (\n",
    "    \"s3://deafrica-waterbodies-dev/waterbodies/v0.0.2/surface_area_change/\"\n",
    ")\n",
    "file_name_prefix = \"waterbodies\"\n",
    "land_sea_mask_fp = \"/g/data/deafrica-waterbodies/masks/af_msk_3s.tif\"\n",
    "split_by_wofs_ls_regions = True"
   ]
  },
  {
   "cell_type": "code",
   "execution_count": null,
   "id": "d7132d9d-f150-48d5-90f7-b83ada1758c0",
   "metadata": {},
   "outputs": [],
   "source": [
    "# Set up logger.\n",
    "logging_setup(verbose=verbose)\n",
    "_log = logging.getLogger(__name__)"
   ]
  },
  {
   "cell_type": "code",
   "execution_count": null,
   "id": "184184d8-1921-4f70-b9d6-3c7795a5e78e",
   "metadata": {},
   "outputs": [],
   "source": [
    "# Parameters to use when loading datasetspolygons_split_by_region_dir.\n",
    "# Chunks selected based on size of WOfs scene.\n",
    "dask_chunks = {\"x\": 3200, \"y\": 3200, \"time\": 1}"
   ]
  },
  {
   "cell_type": "code",
   "execution_count": null,
   "id": "f092862a-38d5-43b1-8717-e150bc2602e6",
   "metadata": {},
   "outputs": [],
   "source": [
    "# Support pathlib Paths.\n",
    "if aoi_vector_file is not None:\n",
    "    aoi_vector_file = str(aoi_vector_file)\n",
    "\n",
    "output_directory = str(output_directory)"
   ]
  },
  {
   "cell_type": "code",
   "execution_count": null,
   "id": "4905772e-acaa-4452-a686-e9e23f1f9192",
   "metadata": {},
   "outputs": [],
   "source": [
    "# Directory to write outputs from intermediate steps\n",
    "intermediate_outputs_dir = os.path.join(output_directory, \"intermediate_outputs\")\n",
    "# Directory to write generated first set of waterbody polygons to.\n",
    "polygons_from_thresholds_dir = os.path.join(\n",
    "    intermediate_outputs_dir, \"polygons_from_thresholds\"\n",
    ")\n",
    "# Directory to write final output.\n",
    "final_outputs_dir = os.path.join(output_directory, \"historical_extent\")\n",
    "# Directory to store polygons split by region.\n",
    "polygons_split_by_region_dir = os.path.join(\n",
    "    output_directory, \"historical_extent_split_by_wofs_region\"\n",
    ")"
   ]
  },
  {
   "cell_type": "code",
   "execution_count": null,
   "id": "42cc868e-9542-48a3-947a-0938ec225fe4",
   "metadata": {},
   "outputs": [],
   "source": [
    "# Set the filesystem to use.\n",
    "if check_if_s3_uri(output_directory):\n",
    "    fs = fsspec.filesystem(\"s3\")\n",
    "else:\n",
    "    fs = fsspec.filesystem(\"file\")"
   ]
  },
  {
   "cell_type": "code",
   "execution_count": null,
   "id": "3c9169aa-aa7d-47ac-b5c9-60e132a49667",
   "metadata": {},
   "outputs": [],
   "source": [
    "if not check_dir_exists(intermediate_outputs_dir):\n",
    "    fs.mkdirs(intermediate_outputs_dir, exist_ok=True)\n",
    "    _log.info(f\"Created directory {intermediate_outputs_dir}\")"
   ]
  },
  {
   "cell_type": "code",
   "execution_count": null,
   "id": "41e53818-e4c4-45cb-bfa4-8ef3c238e048",
   "metadata": {},
   "outputs": [],
   "source": [
    "if not check_dir_exists(polygons_from_thresholds_dir):\n",
    "    fs.mkdirs(polygons_from_thresholds_dir, exist_ok=True)\n",
    "    _log.info(f\"Created directory {polygons_from_thresholds_dir}\")"
   ]
  },
  {
   "cell_type": "code",
   "execution_count": null,
   "id": "4eded234-9771-415d-b4fc-e19936c1f341",
   "metadata": {},
   "outputs": [],
   "source": [
    "if not check_dir_exists(final_outputs_dir):\n",
    "    fs.mkdirs(final_outputs_dir, exist_ok=True)\n",
    "    _log.info(f\"Created directory {final_outputs_dir}\")"
   ]
  },
  {
   "cell_type": "code",
   "execution_count": null,
   "id": "8aec2828-a15e-47cd-8d5b-c6e28346d0d9",
   "metadata": {},
   "outputs": [],
   "source": [
    "if split_by_wofs_ls_regions:\n",
    "    if not check_dir_exists(polygons_split_by_region_dir):\n",
    "        fs.mkdirs(polygons_split_by_region_dir, exist_ok=True)\n",
    "        _log.info(f\"Created directory {polygons_split_by_region_dir}\")"
   ]
  },
  {
   "cell_type": "code",
   "execution_count": null,
   "id": "75aa5e30-f4a3-4e88-8e55-4fcab4de580f",
   "metadata": {},
   "outputs": [],
   "source": [
    "# Load the area of interest as a GeoDataFrame.\n",
    "if aoi_vector_file is not None:\n",
    "    try:\n",
    "        aoi_gdf = gpd.read_file(aoi_vector_file)\n",
    "    except Exception as error:\n",
    "        _log.exception(f\"Could not read the file {aoi_vector_file}\")\n",
    "        raise error\n",
    "else:\n",
    "    aoi_gdf = None"
   ]
  },
  {
   "cell_type": "code",
   "execution_count": null,
   "id": "f7569db1-2ad2-40dc-8b58-97c2fdc0c574",
   "metadata": {},
   "outputs": [],
   "source": [
    "# Get the tiles fo the wofs_ls_summary_alltime product.\n",
    "tiles, grid_workflow = get_wofs_ls_summary_alltime_tiles(\n",
    "    aoi_gdf=aoi_gdf, tile_size_factor=tile_size_factor, num_workers=num_workers\n",
    ")"
   ]
  },
  {
   "cell_type": "code",
   "execution_count": null,
   "id": "a97737d0-e14d-456a-9167-3960106552d4",
   "metadata": {},
   "outputs": [],
   "source": [
    "# Set the wetness thresholds.\n",
    "min_wet_thresholds = set_wetness_thresholds(\n",
    "    detection_threshold=detection_threshold, extent_threshold=extent_threshold\n",
    ")"
   ]
  },
  {
   "cell_type": "code",
   "execution_count": null,
   "id": "c06fc4c1-8ad0-46db-b5e8-45bf695ad7e6",
   "metadata": {},
   "outputs": [],
   "source": [
    "# Set filters to apply during raster processing.\n",
    "if raster_processing_plugin_name is not None:\n",
    "    # Read the plugin as a Python module.\n",
    "    module = import_module(\n",
    "        f\"deafrica_waterbodies.plugins.{raster_processing_plugin_name}\"\n",
    "    )\n",
    "    plugin_file = module.__file__\n",
    "    plugin = run_plugin(plugin_file)\n",
    "    _log.info(f\"Using plugin {plugin_file}\")\n",
    "    validate_plugin(plugin)\n",
    "else:\n",
    "    plugin = None"
   ]
  },
  {
   "cell_type": "code",
   "execution_count": null,
   "id": "6b3954c2-b769-4a8c-ac55-b3f1c9242ccb",
   "metadata": {},
   "outputs": [],
   "source": [
    "# Generate the first set of polygons for each of the tiles.\n",
    "for tile in tiles.items():\n",
    "    tile_id = tile[0]\n",
    "    raster_polygons_fp = os.path.join(\n",
    "        polygons_from_thresholds_dir,\n",
    "        f\"{tile_id[0]}_{tile_id[1]}_raster_polygons.parquet\",\n",
    "    )\n",
    "\n",
    "    if not overwrite:\n",
    "        _log.info(f\"Checking existence of {raster_polygons_fp}\")\n",
    "        exists = check_file_exists(raster_polygons_fp)\n",
    "        if exists:\n",
    "            _log.info(\n",
    "                f\"{raster_polygons_fp} exists! \\n Skipping generating water body polygons for {tile_id}.\"\n",
    "            )\n",
    "\n",
    "    if overwrite or not exists:\n",
    "        try:\n",
    "            _log.info(f\"Generating water body polygons for tile {tile_id}.\")\n",
    "            raster_polygons = process_raster_polygons(\n",
    "                tile=tile,\n",
    "                grid_workflow=grid_workflow,\n",
    "                plugin=plugin,\n",
    "                dask_chunks=dask_chunks,\n",
    "                min_valid_observations=min_valid_observations,\n",
    "                min_wet_thresholds=min_wet_thresholds,\n",
    "                land_sea_mask_fp=land_sea_mask_fp,\n",
    "            )\n",
    "            if raster_polygons.empty:\n",
    "                _log.info(f\"Tile {str(tile_id)} contains no water body polygons.\")\n",
    "            else:\n",
    "                # Drop the attributes column if it exists.\n",
    "                raster_polygons.drop(\n",
    "                    columns=[\"attribute\"], errors=\"ignore\", inplace=True\n",
    "                )\n",
    "                # Write the polygons to parquet files.\n",
    "                raster_polygons.to_parquet(raster_polygons_fp)\n",
    "                _log.info(\n",
    "                    f\"Tile {str(tile_id)} water body polygons written to {raster_polygons_fp}\"\n",
    "                )\n",
    "        except Exception as error:\n",
    "            _log.exception(f\"\\nTile {str(tile_id)} did not run. \\n\")\n",
    "            _log.exception(error)"
   ]
  },
  {
   "cell_type": "code",
   "execution_count": null,
   "id": "0768855d-de9f-4397-bdec-7c5264449645",
   "metadata": {},
   "outputs": [],
   "source": [
    "# Get the extent for each tile.\n",
    "crs = grid_workflow.grid_spec.crs\n",
    "tile_ids = [tile[0] for tile in tiles.items()]\n",
    "tile_extents_geoms = [tile[1].geobox.extent.geom for tile in tiles.items()]\n",
    "tile_extents_gdf = gpd.GeoDataFrame(\n",
    "    {\"tile_id\": tile_ids, \"geometry\": tile_extents_geoms}, crs=crs\n",
    ")\n",
    "\n",
    "tile_extents_fp = os.path.join(intermediate_outputs_dir, \"tile_boundaries.parquet\")\n",
    "\n",
    "tile_extents_gdf.to_parquet(tile_extents_fp)\n",
    "_log.info(f\"Tile boundaries written to {tile_extents_fp}\")"
   ]
  },
  {
   "cell_type": "code",
   "execution_count": null,
   "id": "37caa0c7-73fa-4c5c-8c89-b9c597aa4bd2",
   "metadata": {},
   "outputs": [],
   "source": [
    "# Find all parquet files for the first set of polygons.\n",
    "raster_polygon_paths = find_parquet_files(\n",
    "    path=polygons_from_thresholds_dir, pattern=\".*raster_polygons.*\"\n",
    ")\n",
    "_log.info(f\"Found {len(raster_polygon_paths)} parquet files for the raster polygons.\")"
   ]
  },
  {
   "cell_type": "code",
   "execution_count": null,
   "id": "fc8b2839-476e-45e1-9353-35f27bc3bc39",
   "metadata": {},
   "outputs": [],
   "source": [
    "# Load all polygons into a single GeoDataFrame.\n",
    "_log.info(\"Loading the raster polygons parquet files..\")\n",
    "raster_polygon_polygons_list = []\n",
    "for path in raster_polygon_paths:\n",
    "    gdf = gpd.read_parquet(path)\n",
    "    raster_polygon_polygons_list.append(gdf)\n",
    "\n",
    "raster_polygons = pd.concat(raster_polygon_polygons_list, ignore_index=True)\n",
    "_log.info(f\"Found {len(raster_polygons)} raster polygons.\")"
   ]
  },
  {
   "cell_type": "code",
   "execution_count": null,
   "id": "2fa2c1c1-b91c-4123-8001-45e26846d9d5",
   "metadata": {},
   "outputs": [],
   "source": [
    "_log.info(\"Merging raster waterbody polygons located at tile boundaries...\")\n",
    "raster_polygons_merged = merge_polygons_at_tile_boundaries(\n",
    "    raster_polygons, tile_extents_gdf\n",
    ")\n",
    "# Drop the attributes column if it exists.\n",
    "raster_polygons_merged.drop(columns=[\"attribute\"], errors=\"ignore\", inplace=True)\n",
    "_log.info(\n",
    "    f\"Raster polygons count after merging polygons at tile boundaries {len(raster_polygons_merged)}.\"\n",
    ")\n",
    "\n",
    "_log.info(\"Writing raster polygons merged at tile boundaries to disk..\")\n",
    "raster_polygons_merged_fp = os.path.join(\n",
    "    intermediate_outputs_dir, \"raster_polygons_merged_at_tile_boundaries.parquet\"\n",
    ")\n",
    "raster_polygons_merged.to_parquet(raster_polygons_merged_fp)\n",
    "_log.info(f\"Polygons written to {raster_polygons_merged_fp}\")"
   ]
  },
  {
   "cell_type": "code",
   "execution_count": null,
   "id": "aca91459-e7ae-4c69-9b74-52b1d87b1e94",
   "metadata": {},
   "outputs": [],
   "source": [
    "# Delete to conserve memeory\n",
    "del raster_polygons\n",
    "del tile_extents_gdf"
   ]
  },
  {
   "cell_type": "code",
   "execution_count": null,
   "id": "ea283da0-cbd9-41ee-bacc-0529b5167c49",
   "metadata": {},
   "outputs": [],
   "source": [
    "# Filter the polygons by area.\n",
    "area_filtered_raster_polygons = filter_by_area(\n",
    "    raster_polygons_merged,\n",
    "    min_polygon_size=min_polygon_size,\n",
    "    max_polygon_size=max_polygon_size,\n",
    ")\n",
    "area_filtered_raster_polygons.to_parquet(\n",
    "    os.path.join(intermediate_outputs_dir, \"area_filtered_raster_polygons.parquet\")\n",
    ")"
   ]
  },
  {
   "cell_type": "code",
   "execution_count": null,
   "id": "91fa202b-4702-4910-8d03-7233fbbc01ec",
   "metadata": {},
   "outputs": [],
   "source": [
    "waterbodies_gdf = assign_unique_ids(\n",
    "    polygons=area_filtered_raster_polygons, precision=10\n",
    ")"
   ]
  },
  {
   "cell_type": "code",
   "execution_count": null,
   "id": "27132243-4a0b-40f1-8d90-005c0e42b6d1",
   "metadata": {},
   "outputs": [],
   "source": [
    "waterbodies_gdf = add_polygon_properties(polygons=waterbodies_gdf)"
   ]
  },
  {
   "cell_type": "code",
   "execution_count": null,
   "id": "ff3e0a5e-0c4a-4d6a-8a07-81d105bd6130",
   "metadata": {},
   "outputs": [],
   "source": [
    "waterbodies_gdf = filter_by_length(\n",
    "    polygons_gdf=waterbodies_gdf, length_threshold_km=length_threshold_km\n",
    ")"
   ]
  },
  {
   "cell_type": "code",
   "execution_count": null,
   "id": "5a65a786-54e3-4c05-be9a-0e6b941b3442",
   "metadata": {},
   "outputs": [],
   "source": [
    "waterbodies_gdf = add_timeseries_attribute(\n",
    "    polygons=waterbodies_gdf,\n",
    "    timeseries_directory=timeseries_directory,\n",
    "    region_code=\"af-south-1\",\n",
    ")"
   ]
  },
  {
   "cell_type": "code",
   "execution_count": null,
   "id": "4c6cb3e4-c8de-4154-8d07-222c0fec33d8",
   "metadata": {},
   "outputs": [],
   "source": [
    "# Reproject to EPSG:4326\n",
    "waterbodies_gdf_4326 = waterbodies_gdf.to_crs(\"EPSG:4326\")"
   ]
  },
  {
   "cell_type": "code",
   "execution_count": null,
   "id": "320e6d92-7f8a-4c8e-81f5-c724c6b8eb7e",
   "metadata": {},
   "outputs": [],
   "source": [
    "# Write to disk.\n",
    "write_waterbodies_to_file(\n",
    "    waterbodies_gdf=waterbodies_gdf_4326,\n",
    "    output_directory=final_outputs_dir,\n",
    "    file_name_prefix=file_name_prefix,\n",
    ")"
   ]
  },
  {
   "cell_type": "code",
   "execution_count": null,
   "id": "fa359c39-de0c-4ad6-ad88-dd516ad62972",
   "metadata": {},
   "outputs": [],
   "source": [
    "waterbodies_gdf_4326.to_parquet(\n",
    "    os.path.join(final_outputs_dir, f\"{file_name_prefix}.parquet\")\n",
    ")"
   ]
  },
  {
   "cell_type": "code",
   "execution_count": null,
   "id": "71f6e840-511c-4a81-9b0e-51c406639828",
   "metadata": {},
   "outputs": [],
   "source": [
    "if split_by_wofs_ls_regions:\n",
    "    split_by_region_fps = split_polygons_by_region(\n",
    "        polygons_gdf=waterbodies_gdf_4326,\n",
    "        output_directory=polygons_split_by_region_dir,\n",
    "        product=\"wofs_ls\",\n",
    "    )"
   ]
  }
 ],
 "metadata": {
  "kernelspec": {
   "display_name": "Python 3 (ipykernel)",
   "language": "python",
   "name": "python3"
  },
  "language_info": {
   "codemirror_mode": {
    "name": "ipython",
    "version": 3
   },
   "file_extension": ".py",
   "mimetype": "text/x-python",
   "name": "python",
   "nbconvert_exporter": "python",
   "pygments_lexer": "ipython3",
   "version": "3.10.12"
  }
 },
 "nbformat": 4,
 "nbformat_minor": 5
}
