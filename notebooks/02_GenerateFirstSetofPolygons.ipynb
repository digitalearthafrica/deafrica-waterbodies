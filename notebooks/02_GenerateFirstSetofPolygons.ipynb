{
 "cells": [
  {
   "cell_type": "code",
   "execution_count": 1,
   "id": "727a0f08-2a9c-471c-bbea-346bf528c856",
   "metadata": {},
   "outputs": [],
   "source": [
    "import logging\n",
    "import os\n",
    "\n",
    "import click\n",
    "import datacube\n",
    "import fsspec\n",
    "\n",
    "import deafrica_waterbodies.io\n",
    "import deafrica_waterbodies.make_polygons\n",
    "from deafrica_waterbodies.cli.logs import logging_setup"
   ]
  },
  {
   "cell_type": "code",
   "execution_count": 2,
   "id": "25b37fcb-eb02-4989-8794-326ed93a37b1",
   "metadata": {},
   "outputs": [],
   "source": [
    "import os\n",
    "\n",
    "# These are the default AWS configurations for the Analysis Sandbox.\n",
    "# that are set in the environmnet variables.\n",
    "aws_default_config = {\n",
    "    # \"AWS_NO_SIGN_REQUEST\": \"YES\",\n",
    "    \"AWS_SECRET_ACCESS_KEY\": \"fake\",\n",
    "    \"AWS_ACCESS_KEY_ID\": \"fake\",\n",
    "}\n",
    "\n",
    "# To access public bucket, need to remove the AWS credentials in\n",
    "# the environment variables or the following error will occur.\n",
    "# PermissionError: The AWS Access Key Id you provided does not exist in our records.\n",
    "\n",
    "for key in aws_default_config.keys():\n",
    "    if key in os.environ:\n",
    "        del os.environ[key]"
   ]
  },
  {
   "cell_type": "code",
   "execution_count": 3,
   "id": "f958dc31-a953-4b8b-b045-63029ec43d78",
   "metadata": {},
   "outputs": [],
   "source": [
    "verbose = 1\n",
    "primary_threshold: float = 0.1\n",
    "secondary_threshold: float = 0.05\n",
    "minimum_valid_observations: int = 128\n",
    "output_directory = \"s3://deafrica-waterbodies-dev/test_out_dir\"\n",
    "dataset_ids_text_file = \"s3://deafrica-waterbodies-dev/test_out_dir/dataset_ids.txt\"\n",
    "overwrite = True"
   ]
  },
  {
   "cell_type": "code",
   "execution_count": 4,
   "id": "906996f9-638a-4937-a3e4-7c561a472192",
   "metadata": {},
   "outputs": [],
   "source": [
    "# Set up logger.\n",
    "logging_setup(verbose=verbose)\n",
    "_log = logging.getLogger(__name__)"
   ]
  },
  {
   "cell_type": "code",
   "execution_count": 5,
   "id": "cdefc70d-f19d-4a9a-80a6-6810c2eef674",
   "metadata": {},
   "outputs": [],
   "source": [
    "# Support pathlib paths.\n",
    "output_directory = str(output_directory)\n",
    "dataset_ids_text_file = str(dataset_ids_text_file)"
   ]
  },
  {
   "cell_type": "code",
   "execution_count": 7,
   "id": "d87d2e53-fe36-43f6-81c3-45495c4d7a49",
   "metadata": {},
   "outputs": [],
   "source": [
    "# Parameters to use when loading datasets.\n",
    "dask_chunks = {\"x\": 3200, \"y\": 3200, \"time\": 1}\n",
    "resolution = (-30, 30)\n",
    "output_crs = \"EPSG:6933\""
   ]
  },
  {
   "cell_type": "code",
   "execution_count": 8,
   "id": "3c0a4fca-9707-44ef-812d-bf8a1f42308f",
   "metadata": {},
   "outputs": [
    {
     "name": "stdout",
     "output_type": "stream",
     "text": [
      "[2023-10-04 07:32:22,301] {credentials.py:620} INFO - Found credentials in shared credentials file: ~/.aws/credentials\n"
     ]
    }
   ],
   "source": [
    "# Read the dataset ids from the text file.\n",
    "if not deafrica_waterbodies.io.check_file_exists(dataset_ids_text_file):\n",
    "    _log.error(f\"Could not find text file {dataset_ids_text_file}!\")\n",
    "    raise FileNotFoundError(f\"Could not find text file {dataset_ids_text_file}!\")\n",
    "else:\n",
    "    if deafrica_waterbodies.io.check_if_s3_uri(dataset_ids_text_file):\n",
    "        fs = fsspec.filesystem(\"s3\")\n",
    "    else:\n",
    "        fs = fsspec.filesystem(\"file\")\n",
    "    with fs.open(dataset_ids_text_file, \"r\") as file:\n",
    "        lines = file.readlines()\n",
    "        dataset_ids = [line.strip() for line in lines]"
   ]
  },
  {
   "cell_type": "code",
   "execution_count": 9,
   "id": "20679b58-4de2-4eea-9ab3-85728e6aa896",
   "metadata": {},
   "outputs": [],
   "source": [
    "# Directory to write generated waterbody polygons to.\n",
    "polygons_from_thresholds_dir = os.path.join(output_directory, \"polygons_from_thresholds\")"
   ]
  },
  {
   "cell_type": "code",
   "execution_count": 10,
   "id": "af2a667f-70fd-43f9-90b9-49a84f39f30c",
   "metadata": {},
   "outputs": [],
   "source": [
    "# Set the filesystem to use.\n",
    "if deafrica_waterbodies.io.check_if_s3_uri(polygons_from_thresholds_dir):\n",
    "    fs = fsspec.filesystem(\"s3\")\n",
    "else:\n",
    "    fs = fsspec.filesystem(\"file\")"
   ]
  },
  {
   "cell_type": "code",
   "execution_count": 11,
   "id": "d42cefd7-508c-4fdc-aa22-49e9ee5751ea",
   "metadata": {},
   "outputs": [],
   "source": [
    "# Check if the directory exists. If it does not, create it.\n",
    "if not deafrica_waterbodies.io.check_dir_exists(polygons_from_thresholds_dir):\n",
    "    fs.mkdirs(polygons_from_thresholds_dir, exist_ok=True)\n",
    "    _log.info(f\"Created directory {polygons_from_thresholds_dir}\")"
   ]
  },
  {
   "cell_type": "code",
   "execution_count": 12,
   "id": "9f9fec1f-e5df-4190-aaae-910e68acbcd1",
   "metadata": {},
   "outputs": [
    {
     "name": "stdout",
     "output_type": "stream",
     "text": [
      "[2023-10-04 07:33:00,791] {2036669620.py:3} INFO - We will be running a hybrid wetness threshold. \n",
      "**You have set 0.1 as the primary threshold, which will define the location of the waterbody polygons \n",
      " with 0.05 set as the supplementary threshold, which will define the extent/shape of the waterbody polygons.**\n"
     ]
    }
   ],
   "source": [
    "# Check if the wetness thresholds have been set correctly.\n",
    "minimum_wet_thresholds = [secondary_threshold, primary_threshold]\n",
    "_log.info(deafrica_waterbodies.make_polygons.check_wetness_thresholds(minimum_wet_thresholds))"
   ]
  },
  {
   "cell_type": "code",
   "execution_count": 13,
   "id": "a86b5866-6b56-4a6b-919b-20e11334ad6f",
   "metadata": {},
   "outputs": [],
   "source": [
    "# Connect to the datacube.\n",
    "dc = datacube.Datacube(app=\"GenerateWaterbodyPolygons\")"
   ]
  },
  {
   "cell_type": "code",
   "execution_count": 14,
   "id": "c0dd33a2-9726-471d-a245-8564bafb594b",
   "metadata": {},
   "outputs": [
    {
     "name": "stdout",
     "output_type": "stream",
     "text": [
      "[2023-10-04 07:33:45,642] {make_polygons.py:280} INFO - Generating water body polygons for dataset cd198bae-43a1-566a-8e8e-01b110bfbaf5\n",
      "[2023-10-04 07:33:48,114] {make_polygons.py:280} INFO - Generating water body polygons for dataset fc10a5ae-00d0-5998-bbc0-b7d29f5807fb\n",
      "[2023-10-04 07:33:49,911] {make_polygons.py:280} INFO - Generating water body polygons for dataset bb6c330e-f7c9-5164-85a6-a10e5ed36ce8\n",
      "[2023-10-04 07:33:52,260] {make_polygons.py:280} INFO - Generating water body polygons for dataset 3180edab-0678-59a6-9cce-70437f6d8e8b\n",
      "[2023-10-04 07:33:54,326] {make_polygons.py:280} INFO - Generating water body polygons for dataset f6d24d9a-4399-5d5e-9a0b-b4edfcea710f\n",
      "[2023-10-04 07:33:56,238] {make_polygons.py:280} INFO - Generating water body polygons for dataset 68180140-e074-5c12-a5e7-8ed3d0dee5a9\n",
      "[2023-10-04 07:33:58,396] {make_polygons.py:280} INFO - Generating water body polygons for dataset 7e5d3cf6-2dd0-5830-b6dc-39c1ecc69713\n",
      "[2023-10-04 07:34:00,189] {make_polygons.py:280} INFO - Generating water body polygons for dataset 5c4cf4b6-c649-5205-8152-1b1b8797ef4c\n",
      "[2023-10-04 07:34:02,622] {make_polygons.py:280} INFO - Generating water body polygons for dataset 1e8d81b3-241f-507b-bc0b-6accf8fb995d\n",
      "[2023-10-04 07:34:04,589] {make_polygons.py:280} INFO - Generating water body polygons for dataset 2a070692-152f-5bce-9746-304ae9f473e6\n",
      "[2023-10-04 07:34:06,492] {make_polygons.py:280} INFO - Generating water body polygons for dataset 84e76979-16bb-5a28-8846-59f50b97a6bf\n",
      "[2023-10-04 07:34:08,262] {make_polygons.py:280} INFO - Generating water body polygons for dataset b886a2e3-6342-564c-8ded-06cf45a5a115\n",
      "[2023-10-04 07:34:10,823] {make_polygons.py:280} INFO - Generating water body polygons for dataset 66c72025-c94c-5a82-bea8-e0cf8edb306e\n",
      "[2023-10-04 07:34:14,858] {make_polygons.py:280} INFO - Generating water body polygons for dataset 832547b8-3409-5be3-a9b2-0cfb9e79d43b\n",
      "[2023-10-04 07:34:16,730] {make_polygons.py:280} INFO - Generating water body polygons for dataset a55e2595-a9f8-5513-90df-ebeb9141371f\n",
      "[2023-10-04 07:34:18,638] {make_polygons.py:280} INFO - Generating water body polygons for dataset 4aaef995-885e-55a2-9c0e-4cecf9d0c3f4\n",
      "[2023-10-04 07:34:20,579] {make_polygons.py:280} INFO - Generating water body polygons for dataset 12688939-1640-5fef-8155-fedfe3ecd30b\n",
      "[2023-10-04 07:34:23,064] {make_polygons.py:280} INFO - Generating water body polygons for dataset b6cb8e82-1879-5706-b93c-ef85f032f470\n",
      "[2023-10-04 07:34:25,688] {make_polygons.py:280} INFO - Generating water body polygons for dataset d31ecb6f-6459-5659-a841-f7a84c824af9\n",
      "[2023-10-04 07:34:27,888] {make_polygons.py:280} INFO - Generating water body polygons for dataset 992cf08a-0750-5db6-b409-2fe141b84ec2\n",
      "[2023-10-04 07:34:29,656] {make_polygons.py:280} INFO - Generating water body polygons for dataset ef01bdfe-abc6-5618-a779-2489df1d5d73\n",
      "[2023-10-04 07:34:32,012] {make_polygons.py:280} INFO - Generating water body polygons for dataset f191276a-d1a6-50ac-83a9-de5b279b4229\n",
      "[2023-10-04 07:34:35,995] {make_polygons.py:280} INFO - Generating water body polygons for dataset 217fc46c-d098-5639-ad0a-b8d0efbc4276\n",
      "[2023-10-04 07:34:52,176] {make_polygons.py:280} INFO - Generating water body polygons for dataset 87916cb1-d351-529c-a42a-07eff309ed8b\n",
      "[2023-10-04 07:34:53,977] {make_polygons.py:280} INFO - Generating water body polygons for dataset a27df8f9-e8a5-5ab9-a962-18faf3ce3ae2\n",
      "[2023-10-04 07:34:56,357] {make_polygons.py:280} INFO - Generating water body polygons for dataset 74781945-fca1-5be1-a86c-776a1770d8e3\n",
      "[2023-10-04 07:34:58,213] {make_polygons.py:280} INFO - Generating water body polygons for dataset d49e6bfd-d0f1-5df8-9da4-ec198150f402\n",
      "[2023-10-04 07:35:00,307] {make_polygons.py:280} INFO - Generating water body polygons for dataset b5997e76-bce0-5a43-ac14-5c5ba69ae65a\n",
      "[2023-10-04 07:35:06,161] {make_polygons.py:280} INFO - Generating water body polygons for dataset 52f8f266-f8da-5269-aed6-007e26c131e0\n",
      "[2023-10-04 07:35:08,175] {make_polygons.py:280} INFO - Generating water body polygons for dataset d72ef170-3533-518b-90ce-8debfc37aedb\n",
      "[2023-10-04 07:35:17,943] {make_polygons.py:280} INFO - Generating water body polygons for dataset e413b8ed-5eb2-591f-9a37-8b7825d37dcf\n",
      "[2023-10-04 07:35:19,918] {make_polygons.py:280} INFO - Generating water body polygons for dataset 1dcf68e4-01b5-55d1-9b74-0162af9968fa\n",
      "[2023-10-04 07:35:21,687] {make_polygons.py:280} INFO - Generating water body polygons for dataset 7762c98a-80d0-548a-ac06-39f763e25c35\n",
      "[2023-10-04 07:35:23,536] {make_polygons.py:280} INFO - Generating water body polygons for dataset 2d927c3d-b259-574f-8a88-983e9c835bd5\n",
      "[2023-10-04 07:35:25,440] {make_polygons.py:280} INFO - Generating water body polygons for dataset 11abb94d-e3e8-5927-beeb-b5c6fe2f471f\n",
      "[2023-10-04 07:35:28,460] {make_polygons.py:280} INFO - Generating water body polygons for dataset 55016bd8-ada1-5327-96eb-b68848f800b3\n",
      "[2023-10-04 07:35:30,292] {make_polygons.py:280} INFO - Generating water body polygons for dataset 818adac5-2349-5e72-95f9-34d1ab908668\n",
      "[2023-10-04 07:35:32,403] {make_polygons.py:280} INFO - Generating water body polygons for dataset 506157af-33c8-5596-9176-c86db467880a\n",
      "[2023-10-04 07:35:34,601] {make_polygons.py:280} INFO - Generating water body polygons for dataset 89ade063-61c0-568b-a8fc-7a641319a1ce\n",
      "[2023-10-04 07:35:36,856] {make_polygons.py:280} INFO - Generating water body polygons for dataset 92d4584f-574b-57bb-be2b-4e08291c1796\n",
      "[2023-10-04 07:35:42,500] {make_polygons.py:280} INFO - Generating water body polygons for dataset ee8c6eca-a29b-5449-8896-289436371bb4\n",
      "[2023-10-04 07:35:44,797] {make_polygons.py:280} INFO - Generating water body polygons for dataset 41751ede-7517-578d-aca7-c2d1694c31aa\n",
      "[2023-10-04 07:35:47,280] {make_polygons.py:280} INFO - Generating water body polygons for dataset 28435ed4-8593-5fbb-9f01-87a68c6ca593\n",
      "[2023-10-04 07:35:49,118] {make_polygons.py:280} INFO - Generating water body polygons for dataset 9ba989f3-b68b-5027-b6e8-aefc20721dea\n",
      "[2023-10-04 07:35:51,413] {make_polygons.py:280} INFO - Generating water body polygons for dataset 62c2b19d-7ea4-50c3-b1b6-067d42eb2638\n",
      "[2023-10-04 07:35:53,380] {make_polygons.py:280} INFO - Generating water body polygons for dataset 9ee761e1-189e-53b7-81a3-6f0be8c98934\n",
      "[2023-10-04 07:35:58,735] {make_polygons.py:280} INFO - Generating water body polygons for dataset 6c8c71d3-0c01-52b9-a208-f96dd673971d\n",
      "[2023-10-04 07:36:01,637] {make_polygons.py:280} INFO - Generating water body polygons for dataset 491be0b7-aac0-5aae-8585-c32201050149\n",
      "[2023-10-04 07:36:03,772] {make_polygons.py:280} INFO - Generating water body polygons for dataset f1b1b0cb-d8b8-5d13-9c95-161c60a9bfe6\n",
      "[2023-10-04 07:36:05,557] {make_polygons.py:280} INFO - Generating water body polygons for dataset 3ad86dbf-4c1d-515a-8e02-2ba7664edcfc\n",
      "[2023-10-04 07:36:07,681] {make_polygons.py:280} INFO - Generating water body polygons for dataset 3be3887b-db05-527f-91c3-c9f2d201460e\n",
      "[2023-10-04 07:36:09,696] {make_polygons.py:280} INFO - Generating water body polygons for dataset 5c5a792d-7129-5345-89b8-ee159eeb8357\n",
      "[2023-10-04 07:36:12,096] {make_polygons.py:280} INFO - Generating water body polygons for dataset dbce025d-59f7-59d3-b2a7-497855215baf\n",
      "[2023-10-04 07:36:14,305] {make_polygons.py:280} INFO - Generating water body polygons for dataset d4303ecb-3745-530f-8cec-3dafc6bb4db2\n",
      "[2023-10-04 07:36:16,932] {make_polygons.py:280} INFO - Generating water body polygons for dataset c5c569f3-8b68-5570-85b5-7e9a1eb6812f\n",
      "[2023-10-04 07:36:19,060] {make_polygons.py:280} INFO - Generating water body polygons for dataset 238265f4-9e39-5b2c-848f-f4409ef34b9d\n",
      "[2023-10-04 07:36:21,141] {make_polygons.py:280} INFO - Generating water body polygons for dataset d5e0cd25-cb65-53fd-bb0c-745896452731\n",
      "[2023-10-04 07:36:23,986] {make_polygons.py:280} INFO - Generating water body polygons for dataset c8fdb171-55c0-5629-b5dd-059aebdc875e\n",
      "[2023-10-04 07:36:26,181] {make_polygons.py:280} INFO - Generating water body polygons for dataset 32e41787-3dde-5db9-bee5-c29f0e3a93ed\n",
      "[2023-10-04 07:36:28,012] {make_polygons.py:280} INFO - Generating water body polygons for dataset 02c57798-157c-5827-803d-184e0a369d32\n",
      "[2023-10-04 07:36:29,943] {make_polygons.py:280} INFO - Generating water body polygons for dataset 8f9b6055-3e72-563f-83e2-1a50970558f5\n",
      "[2023-10-04 07:36:31,841] {make_polygons.py:280} INFO - Generating water body polygons for dataset e24f43f8-517d-52c1-9f00-4a83783900bd\n",
      "[2023-10-04 07:36:34,727] {make_polygons.py:280} INFO - Generating water body polygons for dataset 6354d0eb-5489-55ed-81cf-b0449f49bea6\n",
      "[2023-10-04 07:36:36,757] {make_polygons.py:280} INFO - Generating water body polygons for dataset aea08a1f-9933-5f44-87d3-d0714c52725b\n",
      "[2023-10-04 07:36:39,230] {make_polygons.py:280} INFO - Generating water body polygons for dataset f3ffdb67-591d-5da9-9138-817e25487230\n",
      "[2023-10-04 07:36:41,401] {make_polygons.py:280} INFO - Generating water body polygons for dataset 36537f53-c09c-5c90-9e5d-e8afcb42f16e\n",
      "[2023-10-04 07:36:43,389] {make_polygons.py:280} INFO - Generating water body polygons for dataset 89497671-c686-53da-afce-e6c83afaf3ee\n",
      "[2023-10-04 07:36:45,755] {make_polygons.py:280} INFO - Generating water body polygons for dataset d0b13c5b-7421-520f-9493-6e364f19728a\n",
      "[2023-10-04 07:36:47,899] {make_polygons.py:280} INFO - Generating water body polygons for dataset 9e9969aa-bbdb-534f-bb77-3d62aeb27223\n",
      "[2023-10-04 07:36:49,948] {make_polygons.py:280} INFO - Generating water body polygons for dataset e4ba0b20-10af-58c9-ab42-51a71c2c6dbb\n",
      "[2023-10-04 07:36:52,279] {make_polygons.py:280} INFO - Generating water body polygons for dataset a7c4eeae-247c-5668-b248-20497e5e5345\n",
      "[2023-10-04 07:36:54,647] {make_polygons.py:280} INFO - Generating water body polygons for dataset e1c2b0df-67fe-5a51-96d3-6a43b1c7dccb\n",
      "[2023-10-04 07:36:56,371] {make_polygons.py:280} INFO - Generating water body polygons for dataset 19514ec1-882f-579c-8238-6db6f518a7fc\n",
      "[2023-10-04 07:37:00,581] {make_polygons.py:280} INFO - Generating water body polygons for dataset a841d9bf-2afe-5582-aa0a-97803e2689fd\n"
     ]
    }
   ],
   "source": [
    "# For each dataset id, threshold the scene to generate the primary and secondary threshold\n",
    "# waterbody polygons.\n",
    "for dataset_id in dataset_ids:\n",
    "    primary_threshold_polygons_fp = os.path.join(\n",
    "        polygons_from_thresholds_dir, f\"{dataset_id}_primary_threshold_polygons.parquet\"\n",
    "    )\n",
    "    secondary_threshold_polygons_fp = os.path.join(\n",
    "        polygons_from_thresholds_dir, f\"{dataset_id}_secondary_threshold_polygons.parquet\"\n",
    "    )\n",
    "\n",
    "    if not overwrite:\n",
    "        _log.info(\n",
    "            f\"Checking existence of {primary_threshold_polygons_fp} and {secondary_threshold_polygons_fp}\"\n",
    "        )\n",
    "        exists = deafrica_waterbodies.io.check_file_exists(\n",
    "            primary_threshold_polygons_fp\n",
    "        ) and deafrica_waterbodies.io.check_file_exists(secondary_threshold_polygons_fp)\n",
    "\n",
    "    if overwrite or not exists:\n",
    "        (\n",
    "            primary_threshold_polygons,\n",
    "            secondary_threshold_polygons,\n",
    "        ) = deafrica_waterbodies.make_polygons.get_polygons_using_thresholds(\n",
    "            dataset_id=dataset_id,\n",
    "            dask_chunks=dask_chunks,\n",
    "            resolution=resolution,\n",
    "            output_crs=output_crs,\n",
    "            min_valid_observations=minimum_valid_observations,\n",
    "            primary_threshold=primary_threshold,\n",
    "            secondary_threshold=secondary_threshold,\n",
    "            dc=dc,\n",
    "        )\n",
    "        # Write the polygons to parquet files.\n",
    "        primary_threshold_polygons.to_parquet(primary_threshold_polygons_fp)\n",
    "        secondary_threshold_polygons.to_parquet(secondary_threshold_polygons_fp)"
   ]
  }
 ],
 "metadata": {
  "kernelspec": {
   "display_name": "Python 3 (ipykernel)",
   "language": "python",
   "name": "python3"
  },
  "language_info": {
   "codemirror_mode": {
    "name": "ipython",
    "version": 3
   },
   "file_extension": ".py",
   "mimetype": "text/x-python",
   "name": "python",
   "nbconvert_exporter": "python",
   "pygments_lexer": "ipython3",
   "version": "3.10.12"
  }
 },
 "nbformat": 4,
 "nbformat_minor": 5
}
