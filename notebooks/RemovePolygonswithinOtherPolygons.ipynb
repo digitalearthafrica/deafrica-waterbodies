{
 "cells": [
  {
   "cell_type": "code",
   "execution_count": 1,
   "id": "35b518b7-59c1-42e5-8eca-4e6831a43018",
   "metadata": {},
   "outputs": [],
   "source": [
    "import logging\n",
    "import os\n",
    "\n",
    "import geopandas as gpd\n",
    "from deafrica_waterbodies.cli.logs import logging_setup\n",
    "from deafrica_waterbodies.id_field import guess_id_field\n",
    "from tqdm import tqdm"
   ]
  },
  {
   "cell_type": "code",
   "execution_count": 2,
   "id": "597d7da8-d56e-472b-96c6-002f430e5e0f",
   "metadata": {},
   "outputs": [],
   "source": [
    "import os\n",
    "\n",
    "# These are the default AWS configurations for the Analysis Sandbox.\n",
    "# that are set in the environmnet variables.\n",
    "aws_default_config = {\n",
    "    # \"AWS_NO_SIGN_REQUEST\": \"YES\",\n",
    "    \"AWS_SECRET_ACCESS_KEY\": \"fake\",\n",
    "    \"AWS_ACCESS_KEY_ID\": \"fake\",\n",
    "}\n",
    "\n",
    "# To access public bucket, need to remove the AWS credentials in\n",
    "# the environment variables or the following error will occur.\n",
    "# PermissionError: The AWS Access Key Id you provided does not exist in our records.\n",
    "\n",
    "for key in aws_default_config.keys():\n",
    "    if key in os.environ:\n",
    "        del os.environ[key]"
   ]
  },
  {
   "cell_type": "code",
   "execution_count": 3,
   "id": "98d95ab9-904b-4a2a-b2b3-5cd0dc1428eb",
   "metadata": {},
   "outputs": [],
   "source": [
    "# Set up logger.\n",
    "logging_setup(verbose=1)\n",
    "_log = logging.getLogger(__name__)"
   ]
  },
  {
   "cell_type": "code",
   "execution_count": 4,
   "id": "590920e7-7c91-4c14-8060-53395dc61214",
   "metadata": {},
   "outputs": [],
   "source": [
    "polygons_vector_file = \"s3://deafrica-waterbodies-dev/test_out_dir/raster_processing/continental/continentalwaterbodies.parquet\"\n",
    "use_id = \"UID\""
   ]
  },
  {
   "cell_type": "code",
   "execution_count": 5,
   "id": "55339faf-00bf-4ab7-9456-a0e26d1527fd",
   "metadata": {},
   "outputs": [
    {
     "name": "stdout",
     "output_type": "stream",
     "text": [
      "[2023-10-19 18:55:19,696] {3451265644.py:9} INFO - Polygon count 11654\n"
     ]
    }
   ],
   "source": [
    "# Read the vector file.\n",
    "try:\n",
    "    polygons_gdf = gpd.read_file(polygons_vector_file)\n",
    "except Exception as error:\n",
    "    _log.exception(f\"Could not read file {polygons_vector_file}\")\n",
    "    _log.error(error)\n",
    "    raise error\n",
    "else:\n",
    "    _log.info(f\"Polygon count {len(polygons_gdf)}\")"
   ]
  },
  {
   "cell_type": "code",
   "execution_count": 6,
   "id": "473dc11c-b833-463a-ac83-978fd7691525",
   "metadata": {},
   "outputs": [
    {
     "name": "stdout",
     "output_type": "stream",
     "text": [
      "[2023-10-19 18:55:19,702] {id_field.py:64} INFO - Values in the column UID are unique.\n"
     ]
    }
   ],
   "source": [
    "id_field = guess_id_field(polygons_gdf, use_id)\n",
    "\n",
    "# Set the ID field as the index.\n",
    "polygons_gdf.set_index(id_field, inplace=True)"
   ]
  },
  {
   "cell_type": "code",
   "execution_count": 7,
   "id": "ad96502b-1ca9-4c7b-b2a6-1374588a2431",
   "metadata": {},
   "outputs": [
    {
     "name": "stdout",
     "output_type": "stream",
     "text": [
      "CPU times: user 20.4 s, sys: 1.29 s, total: 21.7 s\n",
      "Wall time: 21.7 s\n"
     ]
    }
   ],
   "source": [
    "%%time\n",
    "polygons_to_delete = []\n",
    "for row in polygons_gdf.itertuples():\n",
    "    row_id = row.Index\n",
    "    row_geom = row.geometry\n",
    "\n",
    "    polygons_to_check_against = polygons_gdf.loc[polygons_gdf.index != row_id]\n",
    "\n",
    "    # Check if the row geometry is within any of the other polygons.\n",
    "    if polygons_to_check_against.geometry.contains(row_geom).any():\n",
    "        polygons_to_delete.append(row_id)"
   ]
  },
  {
   "cell_type": "code",
   "execution_count": 8,
   "id": "1ef3db64-2cf9-4325-afcd-958a8d4719e1",
   "metadata": {},
   "outputs": [],
   "source": [
    "# Get the parent directory of the polygons vector file.\n",
    "dir_name = os.path.dirname(polygons_vector_file)\n",
    "# Get the file name of the polygons vector file without the file extenstion.\n",
    "base_name = os.path.splitext(os.path.basename(polygons_vector_file))[0]"
   ]
  },
  {
   "cell_type": "code",
   "execution_count": 9,
   "id": "7a7c2ad6-604b-4485-ab6e-2f2d10611033",
   "metadata": {},
   "outputs": [
    {
     "name": "stdout",
     "output_type": "stream",
     "text": [
      "[2023-10-19 18:55:41,381] {2775308144.py:2} INFO - Found 1 polygons within polygons.\n"
     ]
    }
   ],
   "source": [
    "polygons_to_delete_gdf = polygons_gdf.loc[polygons_gdf.index.isin(polygons_to_delete)]\n",
    "_log.info(f\"Found {len(polygons_to_delete_gdf)} polygons within polygons.\")\n",
    "\n",
    "polygons_to_delete_fp = os.path.join(dir_name, f\"{base_name}_polygons_to_delete.parquet\")\n",
    "polygons_to_delete_gdf.to_parquet(polygons_to_delete_fp)"
   ]
  },
  {
   "cell_type": "code",
   "execution_count": 10,
   "id": "066a49c1-126e-460d-b787-d8ca07a657f1",
   "metadata": {},
   "outputs": [
    {
     "name": "stdout",
     "output_type": "stream",
     "text": [
      "[2023-10-19 18:55:41,409] {421957777.py:2} INFO - Polygon count after handling polygons within polygons 11653.\n"
     ]
    }
   ],
   "source": [
    "polygons_within_polygons_removed = polygons_gdf.loc[~polygons_gdf.index.isin(polygons_to_delete)]\n",
    "_log.info(f\"Polygon count after handling polygons within polygons {len(polygons_within_polygons_removed)}.\")\n",
    "\n",
    "polygons_within_polygons_removed_fp = os.path.join(dir_name, f\"{base_name}_polygons_within_polygons_removed.parquet\")\n",
    "polygons_within_polygons_removed.to_parquet(polygons_within_polygons_removed_fp)"
   ]
  }
 ],
 "metadata": {
  "kernelspec": {
   "display_name": "Python 3 (ipykernel)",
   "language": "python",
   "name": "python3"
  },
  "language_info": {
   "codemirror_mode": {
    "name": "ipython",
    "version": 3
   },
   "file_extension": ".py",
   "mimetype": "text/x-python",
   "name": "python",
   "nbconvert_exporter": "python",
   "pygments_lexer": "ipython3",
   "version": "3.10.12"
  }
 },
 "nbformat": 4,
 "nbformat_minor": 5
}
